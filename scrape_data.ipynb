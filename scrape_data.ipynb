{
 "cells": [
  {
   "cell_type": "code",
   "execution_count": 100,
   "metadata": {},
   "outputs": [],
   "source": [
    "from bs4 import BeautifulSoup\n",
    "import requests\n",
    "from functools import lru_cache\n",
    "import re"
   ]
  },
  {
   "cell_type": "code",
   "execution_count": 8,
   "metadata": {},
   "outputs": [],
   "source": [
    "page = requests.get('https://www.saq.com/en/12073995')"
   ]
  },
  {
   "cell_type": "code",
   "execution_count": 9,
   "metadata": {},
   "outputs": [],
   "source": [
    "soup = BeautifulSoup(page.content)\n"
   ]
  },
  {
   "cell_type": "code",
   "execution_count": 10,
   "metadata": {},
   "outputs": [
    {
     "data": {
      "text/plain": [
       "<title>19 Crimes Shiraz/Grenache/Mataro | Product page | SAQ.COM</title>"
      ]
     },
     "execution_count": 10,
     "metadata": {},
     "output_type": "execute_result"
    }
   ],
   "source": [
    "soup.title"
   ]
  },
  {
   "cell_type": "code",
   "execution_count": 19,
   "metadata": {},
   "outputs": [
    {
     "data": {
      "text/plain": [
       "[]"
      ]
     },
     "execution_count": 19,
     "metadata": {},
     "output_type": "execute_result"
    }
   ],
   "source": [
    "soup.find_all('stock_label_container')"
   ]
  },
  {
   "cell_type": "code",
   "execution_count": 47,
   "metadata": {},
   "outputs": [],
   "source": [
    "HEADER = {'Host': 'www.saq.com',\n",
    "'Referer': 'https://www.saq.com/en/12073995',\n",
    "'Host': 'www.saq.com',\n",
    "'Accept': 'application/json',\n",
    "'X-Requested-With': 'XMLHttpRequest'}\n",
    "\n",
    "def retrieve_stock(product_id):\n",
    "    query = f\"https://www.saq.com/en/saq_inventory/product/internal/id/{product_id}/?_=1585498276470\"\n",
    "    response = requests.get(query, headers=HEADER)\n",
    "    return response.json()\n",
    "    "
   ]
  },
  {
   "cell_type": "code",
   "execution_count": 52,
   "metadata": {},
   "outputs": [
    {
     "data": {
      "text/plain": [
       "{'stock': 156, 'source': 1}"
      ]
     },
     "execution_count": 52,
     "metadata": {},
     "output_type": "execute_result"
    }
   ],
   "source": [
    "retrieve_stock(305444)"
   ]
  },
  {
   "cell_type": "code",
   "execution_count": 53,
   "metadata": {},
   "outputs": [],
   "source": [
    "# some bottles don't seem to be queryable under their product code, instead we can fetch it from the pricebox"
   ]
  },
  {
   "cell_type": "code",
   "execution_count": 55,
   "metadata": {},
   "outputs": [],
   "source": [
    "page = requests.get('https://www.saq.com/en/14376324')\n",
    "soup = BeautifulSoup(page.content)"
   ]
  },
  {
   "cell_type": "code",
   "execution_count": 72,
   "metadata": {},
   "outputs": [],
   "source": [
    "ret = soup.find(\"div\", {'data-product-id':'*'})"
   ]
  },
  {
   "cell_type": "code",
   "execution_count": 73,
   "metadata": {},
   "outputs": [],
   "source": [
    "ret"
   ]
  },
  {
   "cell_type": "code",
   "execution_count": 77,
   "metadata": {},
   "outputs": [],
   "source": [
    "ret = soup.find('div', {'class':'price-box'})"
   ]
  },
  {
   "cell_type": "code",
   "execution_count": 86,
   "metadata": {},
   "outputs": [],
   "source": [
    "product_id = int(ret.attrs['data-product-id'])"
   ]
  },
  {
   "cell_type": "code",
   "execution_count": 94,
   "metadata": {},
   "outputs": [],
   "source": [
    "@lru_cache(maxsize=512)\n",
    "def fetch_alternative_product_id(original_product_id):\n",
    "    page = requests.get(f'https://www.saq.com/en/{original_product_id}')\n",
    "    soup = BeautifulSoup(page.content)\n",
    "    ret = soup.find('div', {'class':'price-box'})\n",
    "    product_id = int(ret.attrs['data-product-id'])\n",
    "    return product_id"
   ]
  },
  {
   "cell_type": "code",
   "execution_count": 95,
   "metadata": {},
   "outputs": [],
   "source": [
    "original = 14207918\n",
    "alternative=fetch_alternative_product_id(original)"
   ]
  },
  {
   "cell_type": "code",
   "execution_count": 96,
   "metadata": {},
   "outputs": [
    {
     "data": {
      "text/plain": [
       "{'stock': 8, 'source': 1}"
      ]
     },
     "execution_count": 96,
     "metadata": {},
     "output_type": "execute_result"
    }
   ],
   "source": [
    "retrieve_stock(alternative)"
   ]
  },
  {
   "cell_type": "code",
   "execution_count": 98,
   "metadata": {},
   "outputs": [],
   "source": [
    "def get_stock_from_webpage(url):\n",
    "    product_regex = '1{1}\\d{7}'\n",
    "\n",
    "    # Parse product ID out of webpage\n",
    "    product_id = re.search(product_regex, url).group(0)\n",
    "    \n",
    "    stock_json = retrieve_stock(product_id)\n",
    "\n",
    "    if stock_json['source'] == 2:\n",
    "        # Stored under alternative product id\n",
    "        alternative_product_id = fetch_alterantive_product_id(product_id)\n",
    "        stock_json = retrieve_stock(alternative_product_id)\n",
    "        \n",
    "    return stock_json\n",
    "            \n",
    "    "
   ]
  },
  {
   "cell_type": "code",
   "execution_count": 101,
   "metadata": {},
   "outputs": [
    {
     "data": {
      "text/plain": [
       "{'stock': 627, 'source': 1}"
      ]
     },
     "execution_count": 101,
     "metadata": {},
     "output_type": "execute_result"
    }
   ],
   "source": [
    "get_stock_from_webpage('https://www.saq.com/fr/12073995')"
   ]
  },
  {
   "cell_type": "code",
   "execution_count": 102,
   "metadata": {},
   "outputs": [
    {
     "data": {
      "text/plain": [
       "{'stock': 156, 'source': 1}"
      ]
     },
     "execution_count": 102,
     "metadata": {},
     "output_type": "execute_result"
    }
   ],
   "source": [
    "get_stock_from_webpage('https://www.saq.com/fr/14376324')"
   ]
  },
  {
   "cell_type": "code",
   "execution_count": null,
   "metadata": {},
   "outputs": [],
   "source": [
    "# "
   ]
  }
 ],
 "metadata": {
  "kernelspec": {
   "display_name": "Python 3",
   "language": "python",
   "name": "python3"
  },
  "language_info": {
   "codemirror_mode": {
    "name": "ipython",
    "version": 3
   },
   "file_extension": ".py",
   "mimetype": "text/x-python",
   "name": "python",
   "nbconvert_exporter": "python",
   "pygments_lexer": "ipython3",
   "version": "3.7.3"
  }
 },
 "nbformat": 4,
 "nbformat_minor": 4
}
