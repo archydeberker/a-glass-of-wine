{
 "cells": [
  {
   "cell_type": "code",
   "execution_count": 1,
   "metadata": {},
   "outputs": [],
   "source": [
    "from webapp.api.wine import StockCounter\n",
    "import plotly.express as px"
   ]
  },
  {
   "cell_type": "code",
   "execution_count": 2,
   "metadata": {},
   "outputs": [
    {
     "name": "stdout",
     "output_type": "stream",
     "text": [
      "Loading df for today\n",
      "Oldest datapoint is 2020-04-11 14:03:43\n",
      "Latest datapoint is 2020-04-12 13:03:38\n",
      "Calculated stock change df\n"
     ]
    }
   ],
   "source": [
    "counter = StockCounter()"
   ]
  },
  {
   "cell_type": "code",
   "execution_count": 3,
   "metadata": {},
   "outputs": [
    {
     "data": {
      "text/html": [
       "<div>\n",
       "<style scoped>\n",
       "    .dataframe tbody tr th:only-of-type {\n",
       "        vertical-align: middle;\n",
       "    }\n",
       "\n",
       "    .dataframe tbody tr th {\n",
       "        vertical-align: top;\n",
       "    }\n",
       "\n",
       "    .dataframe thead th {\n",
       "        text-align: right;\n",
       "    }\n",
       "</style>\n",
       "<table border=\"1\" class=\"dataframe\">\n",
       "  <thead>\n",
       "    <tr style=\"text-align: right;\">\n",
       "      <th></th>\n",
       "      <th>Unnamed: 0</th>\n",
       "      <th>wine_name</th>\n",
       "      <th>id</th>\n",
       "      <th>stock</th>\n",
       "      <th>wine_img</th>\n",
       "      <th>wine_type</th>\n",
       "      <th>wine_origin</th>\n",
       "      <th>stock_delta</th>\n",
       "      <th>wine_consumption</th>\n",
       "      <th>cumulative_wine_consumption</th>\n",
       "    </tr>\n",
       "    <tr>\n",
       "      <th>timestamp</th>\n",
       "      <th></th>\n",
       "      <th></th>\n",
       "      <th></th>\n",
       "      <th></th>\n",
       "      <th></th>\n",
       "      <th></th>\n",
       "      <th></th>\n",
       "      <th></th>\n",
       "      <th></th>\n",
       "      <th></th>\n",
       "    </tr>\n",
       "  </thead>\n",
       "  <tbody>\n",
       "    <tr>\n",
       "      <th>2020-04-11 14:03:43</th>\n",
       "      <td>527</td>\n",
       "      <td>Mara Valpolicella Ripasso Superiore</td>\n",
       "      <td>147482</td>\n",
       "      <td>146</td>\n",
       "      <td>https://www.saq.com/media/catalog/product/1/0/...</td>\n",
       "      <td>Red wine</td>\n",
       "      <td>Italy</td>\n",
       "      <td>0.0</td>\n",
       "      <td>0.0</td>\n",
       "      <td>0.0</td>\n",
       "    </tr>\n",
       "    <tr>\n",
       "      <th>2020-04-11 15:03:40</th>\n",
       "      <td>522</td>\n",
       "      <td>Mara Valpolicella Ripasso Superiore</td>\n",
       "      <td>147482</td>\n",
       "      <td>129</td>\n",
       "      <td>https://www.saq.com/media/catalog/product/1/0/...</td>\n",
       "      <td>Red wine</td>\n",
       "      <td>Italy</td>\n",
       "      <td>-17.0</td>\n",
       "      <td>17.0</td>\n",
       "      <td>17.0</td>\n",
       "    </tr>\n",
       "    <tr>\n",
       "      <th>2020-04-11 16:02:50</th>\n",
       "      <td>527</td>\n",
       "      <td>Mara Valpolicella Ripasso Superiore</td>\n",
       "      <td>147482</td>\n",
       "      <td>115</td>\n",
       "      <td>https://www.saq.com/media/catalog/product/1/0/...</td>\n",
       "      <td>Red wine</td>\n",
       "      <td>Italy</td>\n",
       "      <td>-14.0</td>\n",
       "      <td>14.0</td>\n",
       "      <td>31.0</td>\n",
       "    </tr>\n",
       "    <tr>\n",
       "      <th>2020-04-11 17:03:47</th>\n",
       "      <td>515</td>\n",
       "      <td>Mara Valpolicella Ripasso Superiore</td>\n",
       "      <td>147482</td>\n",
       "      <td>92</td>\n",
       "      <td>https://www.saq.com/media/catalog/product/1/0/...</td>\n",
       "      <td>Red wine</td>\n",
       "      <td>Italy</td>\n",
       "      <td>-23.0</td>\n",
       "      <td>23.0</td>\n",
       "      <td>54.0</td>\n",
       "    </tr>\n",
       "    <tr>\n",
       "      <th>2020-04-11 18:02:51</th>\n",
       "      <td>510</td>\n",
       "      <td>Mara Valpolicella Ripasso Superiore</td>\n",
       "      <td>147482</td>\n",
       "      <td>69</td>\n",
       "      <td>https://www.saq.com/media/catalog/product/1/0/...</td>\n",
       "      <td>Red wine</td>\n",
       "      <td>Italy</td>\n",
       "      <td>-23.0</td>\n",
       "      <td>23.0</td>\n",
       "      <td>77.0</td>\n",
       "    </tr>\n",
       "    <tr>\n",
       "      <th>2020-04-11 19:05:21</th>\n",
       "      <td>510</td>\n",
       "      <td>Mara Valpolicella Ripasso Superiore</td>\n",
       "      <td>147482</td>\n",
       "      <td>53</td>\n",
       "      <td>https://www.saq.com/media/catalog/product/1/0/...</td>\n",
       "      <td>Red wine</td>\n",
       "      <td>Italy</td>\n",
       "      <td>-16.0</td>\n",
       "      <td>16.0</td>\n",
       "      <td>93.0</td>\n",
       "    </tr>\n",
       "    <tr>\n",
       "      <th>2020-04-11 20:02:55</th>\n",
       "      <td>506</td>\n",
       "      <td>Mara Valpolicella Ripasso Superiore</td>\n",
       "      <td>147482</td>\n",
       "      <td>51</td>\n",
       "      <td>https://www.saq.com/media/catalog/product/1/0/...</td>\n",
       "      <td>Red wine</td>\n",
       "      <td>Italy</td>\n",
       "      <td>-2.0</td>\n",
       "      <td>2.0</td>\n",
       "      <td>95.0</td>\n",
       "    </tr>\n",
       "    <tr>\n",
       "      <th>2020-04-11 21:02:26</th>\n",
       "      <td>504</td>\n",
       "      <td>Mara Valpolicella Ripasso Superiore</td>\n",
       "      <td>147482</td>\n",
       "      <td>48</td>\n",
       "      <td>https://www.saq.com/media/catalog/product/1/0/...</td>\n",
       "      <td>Red wine</td>\n",
       "      <td>Italy</td>\n",
       "      <td>-3.0</td>\n",
       "      <td>3.0</td>\n",
       "      <td>98.0</td>\n",
       "    </tr>\n",
       "    <tr>\n",
       "      <th>2020-04-11 22:04:52</th>\n",
       "      <td>114</td>\n",
       "      <td>Château des Jacques Morgon Côte du Py</td>\n",
       "      <td>147671</td>\n",
       "      <td>9</td>\n",
       "      <td>https://www.saq.com/media/catalog/product/1/4/...</td>\n",
       "      <td>Red wine</td>\n",
       "      <td>France</td>\n",
       "      <td>0.0</td>\n",
       "      <td>0.0</td>\n",
       "      <td>0.0</td>\n",
       "    </tr>\n",
       "    <tr>\n",
       "      <th>2020-04-11 23:03:00</th>\n",
       "      <td>481</td>\n",
       "      <td>Louis Jadot Pommard</td>\n",
       "      <td>147572</td>\n",
       "      <td>5</td>\n",
       "      <td>https://www.saq.com/media/wysiwyg/placeholder/...</td>\n",
       "      <td>Red wine</td>\n",
       "      <td>France</td>\n",
       "      <td>0.0</td>\n",
       "      <td>0.0</td>\n",
       "      <td>0.0</td>\n",
       "    </tr>\n",
       "    <tr>\n",
       "      <th>2020-04-12 00:05:26</th>\n",
       "      <td>475</td>\n",
       "      <td>Louis Jadot Pommard</td>\n",
       "      <td>147572</td>\n",
       "      <td>5</td>\n",
       "      <td>https://www.saq.com/media/wysiwyg/placeholder/...</td>\n",
       "      <td>Red wine</td>\n",
       "      <td>France</td>\n",
       "      <td>0.0</td>\n",
       "      <td>0.0</td>\n",
       "      <td>0.0</td>\n",
       "    </tr>\n",
       "    <tr>\n",
       "      <th>2020-04-12 01:02:29</th>\n",
       "      <td>471</td>\n",
       "      <td>Louis Jadot Pommard</td>\n",
       "      <td>147572</td>\n",
       "      <td>5</td>\n",
       "      <td>https://www.saq.com/media/wysiwyg/placeholder/...</td>\n",
       "      <td>Red wine</td>\n",
       "      <td>France</td>\n",
       "      <td>0.0</td>\n",
       "      <td>0.0</td>\n",
       "      <td>0.0</td>\n",
       "    </tr>\n",
       "    <tr>\n",
       "      <th>2020-04-12 02:02:31</th>\n",
       "      <td>471</td>\n",
       "      <td>Louis Jadot Pommard</td>\n",
       "      <td>147572</td>\n",
       "      <td>5</td>\n",
       "      <td>https://www.saq.com/media/wysiwyg/placeholder/...</td>\n",
       "      <td>Red wine</td>\n",
       "      <td>France</td>\n",
       "      <td>0.0</td>\n",
       "      <td>0.0</td>\n",
       "      <td>0.0</td>\n",
       "    </tr>\n",
       "    <tr>\n",
       "      <th>2020-04-12 03:02:13</th>\n",
       "      <td>471</td>\n",
       "      <td>Louis Jadot Pommard</td>\n",
       "      <td>147572</td>\n",
       "      <td>5</td>\n",
       "      <td>https://www.saq.com/media/wysiwyg/placeholder/...</td>\n",
       "      <td>Red wine</td>\n",
       "      <td>France</td>\n",
       "      <td>0.0</td>\n",
       "      <td>0.0</td>\n",
       "      <td>0.0</td>\n",
       "    </tr>\n",
       "    <tr>\n",
       "      <th>2020-04-12 04:03:51</th>\n",
       "      <td>469</td>\n",
       "      <td>Louis Jadot Pommard</td>\n",
       "      <td>147572</td>\n",
       "      <td>5</td>\n",
       "      <td>https://www.saq.com/media/wysiwyg/placeholder/...</td>\n",
       "      <td>Red wine</td>\n",
       "      <td>France</td>\n",
       "      <td>0.0</td>\n",
       "      <td>0.0</td>\n",
       "      <td>0.0</td>\n",
       "    </tr>\n",
       "    <tr>\n",
       "      <th>2020-04-12 05:02:53</th>\n",
       "      <td>469</td>\n",
       "      <td>Louis Jadot Pommard</td>\n",
       "      <td>147572</td>\n",
       "      <td>5</td>\n",
       "      <td>https://www.saq.com/media/wysiwyg/placeholder/...</td>\n",
       "      <td>Red wine</td>\n",
       "      <td>France</td>\n",
       "      <td>0.0</td>\n",
       "      <td>0.0</td>\n",
       "      <td>0.0</td>\n",
       "    </tr>\n",
       "    <tr>\n",
       "      <th>2020-04-12 07:05:00</th>\n",
       "      <td>469</td>\n",
       "      <td>Louis Jadot Pommard</td>\n",
       "      <td>147572</td>\n",
       "      <td>5</td>\n",
       "      <td>https://www.saq.com/media/wysiwyg/placeholder/...</td>\n",
       "      <td>Red wine</td>\n",
       "      <td>France</td>\n",
       "      <td>0.0</td>\n",
       "      <td>0.0</td>\n",
       "      <td>0.0</td>\n",
       "    </tr>\n",
       "    <tr>\n",
       "      <th>2020-04-12 08:02:39</th>\n",
       "      <td>465</td>\n",
       "      <td>Louis Jadot Pommard</td>\n",
       "      <td>147572</td>\n",
       "      <td>5</td>\n",
       "      <td>https://www.saq.com/media/wysiwyg/placeholder/...</td>\n",
       "      <td>Red wine</td>\n",
       "      <td>France</td>\n",
       "      <td>0.0</td>\n",
       "      <td>0.0</td>\n",
       "      <td>0.0</td>\n",
       "    </tr>\n",
       "    <tr>\n",
       "      <th>2020-04-12 09:03:52</th>\n",
       "      <td>460</td>\n",
       "      <td>Louis Jadot Pommard</td>\n",
       "      <td>147572</td>\n",
       "      <td>5</td>\n",
       "      <td>https://www.saq.com/media/wysiwyg/placeholder/...</td>\n",
       "      <td>Red wine</td>\n",
       "      <td>France</td>\n",
       "      <td>0.0</td>\n",
       "      <td>0.0</td>\n",
       "      <td>0.0</td>\n",
       "    </tr>\n",
       "    <tr>\n",
       "      <th>2020-04-12 10:03:06</th>\n",
       "      <td>457</td>\n",
       "      <td>Louis Jadot Pommard</td>\n",
       "      <td>147572</td>\n",
       "      <td>5</td>\n",
       "      <td>https://www.saq.com/media/wysiwyg/placeholder/...</td>\n",
       "      <td>Red wine</td>\n",
       "      <td>France</td>\n",
       "      <td>0.0</td>\n",
       "      <td>0.0</td>\n",
       "      <td>0.0</td>\n",
       "    </tr>\n",
       "    <tr>\n",
       "      <th>2020-04-12 11:02:42</th>\n",
       "      <td>456</td>\n",
       "      <td>Louis Jadot Pommard</td>\n",
       "      <td>147572</td>\n",
       "      <td>5</td>\n",
       "      <td>https://www.saq.com/media/wysiwyg/placeholder/...</td>\n",
       "      <td>Red wine</td>\n",
       "      <td>France</td>\n",
       "      <td>0.0</td>\n",
       "      <td>0.0</td>\n",
       "      <td>0.0</td>\n",
       "    </tr>\n",
       "    <tr>\n",
       "      <th>2020-04-12 12:03:37</th>\n",
       "      <td>455</td>\n",
       "      <td>Louis Jadot Pommard</td>\n",
       "      <td>147572</td>\n",
       "      <td>5</td>\n",
       "      <td>https://www.saq.com/media/wysiwyg/placeholder/...</td>\n",
       "      <td>Red wine</td>\n",
       "      <td>France</td>\n",
       "      <td>0.0</td>\n",
       "      <td>0.0</td>\n",
       "      <td>0.0</td>\n",
       "    </tr>\n",
       "    <tr>\n",
       "      <th>2020-04-12 13:03:38</th>\n",
       "      <td>455</td>\n",
       "      <td>Louis Jadot Pommard</td>\n",
       "      <td>147572</td>\n",
       "      <td>5</td>\n",
       "      <td>https://www.saq.com/media/wysiwyg/placeholder/...</td>\n",
       "      <td>Red wine</td>\n",
       "      <td>France</td>\n",
       "      <td>0.0</td>\n",
       "      <td>0.0</td>\n",
       "      <td>0.0</td>\n",
       "    </tr>\n",
       "  </tbody>\n",
       "</table>\n",
       "</div>"
      ],
      "text/plain": [
       "                     Unnamed: 0                              wine_name  \\\n",
       "timestamp                                                                \n",
       "2020-04-11 14:03:43         527    Mara Valpolicella Ripasso Superiore   \n",
       "2020-04-11 15:03:40         522    Mara Valpolicella Ripasso Superiore   \n",
       "2020-04-11 16:02:50         527    Mara Valpolicella Ripasso Superiore   \n",
       "2020-04-11 17:03:47         515    Mara Valpolicella Ripasso Superiore   \n",
       "2020-04-11 18:02:51         510    Mara Valpolicella Ripasso Superiore   \n",
       "2020-04-11 19:05:21         510    Mara Valpolicella Ripasso Superiore   \n",
       "2020-04-11 20:02:55         506    Mara Valpolicella Ripasso Superiore   \n",
       "2020-04-11 21:02:26         504    Mara Valpolicella Ripasso Superiore   \n",
       "2020-04-11 22:04:52         114  Château des Jacques Morgon Côte du Py   \n",
       "2020-04-11 23:03:00         481                    Louis Jadot Pommard   \n",
       "2020-04-12 00:05:26         475                    Louis Jadot Pommard   \n",
       "2020-04-12 01:02:29         471                    Louis Jadot Pommard   \n",
       "2020-04-12 02:02:31         471                    Louis Jadot Pommard   \n",
       "2020-04-12 03:02:13         471                    Louis Jadot Pommard   \n",
       "2020-04-12 04:03:51         469                    Louis Jadot Pommard   \n",
       "2020-04-12 05:02:53         469                    Louis Jadot Pommard   \n",
       "2020-04-12 07:05:00         469                    Louis Jadot Pommard   \n",
       "2020-04-12 08:02:39         465                    Louis Jadot Pommard   \n",
       "2020-04-12 09:03:52         460                    Louis Jadot Pommard   \n",
       "2020-04-12 10:03:06         457                    Louis Jadot Pommard   \n",
       "2020-04-12 11:02:42         456                    Louis Jadot Pommard   \n",
       "2020-04-12 12:03:37         455                    Louis Jadot Pommard   \n",
       "2020-04-12 13:03:38         455                    Louis Jadot Pommard   \n",
       "\n",
       "                         id  stock  \\\n",
       "timestamp                            \n",
       "2020-04-11 14:03:43  147482    146   \n",
       "2020-04-11 15:03:40  147482    129   \n",
       "2020-04-11 16:02:50  147482    115   \n",
       "2020-04-11 17:03:47  147482     92   \n",
       "2020-04-11 18:02:51  147482     69   \n",
       "2020-04-11 19:05:21  147482     53   \n",
       "2020-04-11 20:02:55  147482     51   \n",
       "2020-04-11 21:02:26  147482     48   \n",
       "2020-04-11 22:04:52  147671      9   \n",
       "2020-04-11 23:03:00  147572      5   \n",
       "2020-04-12 00:05:26  147572      5   \n",
       "2020-04-12 01:02:29  147572      5   \n",
       "2020-04-12 02:02:31  147572      5   \n",
       "2020-04-12 03:02:13  147572      5   \n",
       "2020-04-12 04:03:51  147572      5   \n",
       "2020-04-12 05:02:53  147572      5   \n",
       "2020-04-12 07:05:00  147572      5   \n",
       "2020-04-12 08:02:39  147572      5   \n",
       "2020-04-12 09:03:52  147572      5   \n",
       "2020-04-12 10:03:06  147572      5   \n",
       "2020-04-12 11:02:42  147572      5   \n",
       "2020-04-12 12:03:37  147572      5   \n",
       "2020-04-12 13:03:38  147572      5   \n",
       "\n",
       "                                                              wine_img  \\\n",
       "timestamp                                                                \n",
       "2020-04-11 14:03:43  https://www.saq.com/media/catalog/product/1/0/...   \n",
       "2020-04-11 15:03:40  https://www.saq.com/media/catalog/product/1/0/...   \n",
       "2020-04-11 16:02:50  https://www.saq.com/media/catalog/product/1/0/...   \n",
       "2020-04-11 17:03:47  https://www.saq.com/media/catalog/product/1/0/...   \n",
       "2020-04-11 18:02:51  https://www.saq.com/media/catalog/product/1/0/...   \n",
       "2020-04-11 19:05:21  https://www.saq.com/media/catalog/product/1/0/...   \n",
       "2020-04-11 20:02:55  https://www.saq.com/media/catalog/product/1/0/...   \n",
       "2020-04-11 21:02:26  https://www.saq.com/media/catalog/product/1/0/...   \n",
       "2020-04-11 22:04:52  https://www.saq.com/media/catalog/product/1/4/...   \n",
       "2020-04-11 23:03:00  https://www.saq.com/media/wysiwyg/placeholder/...   \n",
       "2020-04-12 00:05:26  https://www.saq.com/media/wysiwyg/placeholder/...   \n",
       "2020-04-12 01:02:29  https://www.saq.com/media/wysiwyg/placeholder/...   \n",
       "2020-04-12 02:02:31  https://www.saq.com/media/wysiwyg/placeholder/...   \n",
       "2020-04-12 03:02:13  https://www.saq.com/media/wysiwyg/placeholder/...   \n",
       "2020-04-12 04:03:51  https://www.saq.com/media/wysiwyg/placeholder/...   \n",
       "2020-04-12 05:02:53  https://www.saq.com/media/wysiwyg/placeholder/...   \n",
       "2020-04-12 07:05:00  https://www.saq.com/media/wysiwyg/placeholder/...   \n",
       "2020-04-12 08:02:39  https://www.saq.com/media/wysiwyg/placeholder/...   \n",
       "2020-04-12 09:03:52  https://www.saq.com/media/wysiwyg/placeholder/...   \n",
       "2020-04-12 10:03:06  https://www.saq.com/media/wysiwyg/placeholder/...   \n",
       "2020-04-12 11:02:42  https://www.saq.com/media/wysiwyg/placeholder/...   \n",
       "2020-04-12 12:03:37  https://www.saq.com/media/wysiwyg/placeholder/...   \n",
       "2020-04-12 13:03:38  https://www.saq.com/media/wysiwyg/placeholder/...   \n",
       "\n",
       "                    wine_type wine_origin  stock_delta  wine_consumption  \\\n",
       "timestamp                                                                  \n",
       "2020-04-11 14:03:43  Red wine       Italy          0.0               0.0   \n",
       "2020-04-11 15:03:40  Red wine       Italy        -17.0              17.0   \n",
       "2020-04-11 16:02:50  Red wine       Italy        -14.0              14.0   \n",
       "2020-04-11 17:03:47  Red wine       Italy        -23.0              23.0   \n",
       "2020-04-11 18:02:51  Red wine       Italy        -23.0              23.0   \n",
       "2020-04-11 19:05:21  Red wine       Italy        -16.0              16.0   \n",
       "2020-04-11 20:02:55  Red wine       Italy         -2.0               2.0   \n",
       "2020-04-11 21:02:26  Red wine       Italy         -3.0               3.0   \n",
       "2020-04-11 22:04:52  Red wine      France          0.0               0.0   \n",
       "2020-04-11 23:03:00  Red wine      France          0.0               0.0   \n",
       "2020-04-12 00:05:26  Red wine      France          0.0               0.0   \n",
       "2020-04-12 01:02:29  Red wine      France          0.0               0.0   \n",
       "2020-04-12 02:02:31  Red wine      France          0.0               0.0   \n",
       "2020-04-12 03:02:13  Red wine      France          0.0               0.0   \n",
       "2020-04-12 04:03:51  Red wine      France          0.0               0.0   \n",
       "2020-04-12 05:02:53  Red wine      France          0.0               0.0   \n",
       "2020-04-12 07:05:00  Red wine      France          0.0               0.0   \n",
       "2020-04-12 08:02:39  Red wine      France          0.0               0.0   \n",
       "2020-04-12 09:03:52  Red wine      France          0.0               0.0   \n",
       "2020-04-12 10:03:06  Red wine      France          0.0               0.0   \n",
       "2020-04-12 11:02:42  Red wine      France          0.0               0.0   \n",
       "2020-04-12 12:03:37  Red wine      France          0.0               0.0   \n",
       "2020-04-12 13:03:38  Red wine      France          0.0               0.0   \n",
       "\n",
       "                     cumulative_wine_consumption  \n",
       "timestamp                                         \n",
       "2020-04-11 14:03:43                          0.0  \n",
       "2020-04-11 15:03:40                         17.0  \n",
       "2020-04-11 16:02:50                         31.0  \n",
       "2020-04-11 17:03:47                         54.0  \n",
       "2020-04-11 18:02:51                         77.0  \n",
       "2020-04-11 19:05:21                         93.0  \n",
       "2020-04-11 20:02:55                         95.0  \n",
       "2020-04-11 21:02:26                         98.0  \n",
       "2020-04-11 22:04:52                          0.0  \n",
       "2020-04-11 23:03:00                          0.0  \n",
       "2020-04-12 00:05:26                          0.0  \n",
       "2020-04-12 01:02:29                          0.0  \n",
       "2020-04-12 02:02:31                          0.0  \n",
       "2020-04-12 03:02:13                          0.0  \n",
       "2020-04-12 04:03:51                          0.0  \n",
       "2020-04-12 05:02:53                          0.0  \n",
       "2020-04-12 07:05:00                          0.0  \n",
       "2020-04-12 08:02:39                          0.0  \n",
       "2020-04-12 09:03:52                          0.0  \n",
       "2020-04-12 10:03:06                          0.0  \n",
       "2020-04-12 11:02:42                          0.0  \n",
       "2020-04-12 12:03:37                          0.0  \n",
       "2020-04-12 13:03:38                          0.0  "
      ]
     },
     "execution_count": 3,
     "metadata": {},
     "output_type": "execute_result"
    }
   ],
   "source": [
    "counter.online_df.sort_values(by=['id','timestamp']).groupby('timestamp').first()"
   ]
  },
  {
   "cell_type": "markdown",
   "metadata": {},
   "source": [
    "This should be monotonically increasing, but it doesn't seem to be"
   ]
  },
  {
   "cell_type": "code",
   "execution_count": 8,
   "metadata": {},
   "outputs": [
    {
     "data": {
      "text/plain": [
       "<matplotlib.axes._subplots.AxesSubplot at 0x11ce74f28>"
      ]
     },
     "execution_count": 8,
     "metadata": {},
     "output_type": "execute_result"
    },
    {
     "data": {
      "image/png": "[encoded data removed]",
      "text/plain": [
       "<Figure size 432x288 with 1 Axes>"
      ]
     },
     "metadata": {
      "needs_background": "light"
     },
     "output_type": "display_data"
    }
   ],
   "source": [
    "counter.online_df.groupby('timestamp')['cumulative_wine_consumption'].sum().plot()"
   ]
  },
  {
   "cell_type": "markdown",
   "metadata": {},
   "source": [
    "Is this because wines are dropping out of the series as they sell out?"
   ]
  },
  {
   "cell_type": "code",
   "execution_count": 12,
   "metadata": {},
   "outputs": [
    {
     "data": {
      "text/plain": [
       "<matplotlib.axes._subplots.AxesSubplot at 0x1231b70f0>"
      ]
     },
     "execution_count": 12,
     "metadata": {},
     "output_type": "execute_result"
    },
    {
     "data": {
      "image/png": "[encoded data removed]",
      "text/plain": [
       "<Figure size 432x288 with 1 Axes>"
      ]
     },
     "metadata": {
      "needs_background": "light"
     },
     "output_type": "display_data"
    }
   ],
   "source": [
    "counter.online_df.groupby(['timestamp'])['id'].count().plot()"
   ]
  },
  {
   "cell_type": "markdown",
   "metadata": {},
   "source": [
    "The online range does seem to be reducing over time, which could explain drops in total consumption.. The right way to counter this is to sum the wine consumption at every time point, then sum over the entire series"
   ]
  },
  {
   "cell_type": "code",
   "execution_count": 17,
   "metadata": {},
   "outputs": [
    {
     "data": {
      "text/plain": [
       "7061.0"
      ]
     },
     "execution_count": 17,
     "metadata": {},
     "output_type": "execute_result"
    }
   ],
   "source": [
    "counter.online_df.groupby('timestamp').sum()['wine_consumption'].sum()"
   ]
  },
  {
   "cell_type": "markdown",
   "metadata": {},
   "source": [
    "And this is *not* the same as the answer returned by the previous method:"
   ]
  },
  {
   "cell_type": "code",
   "execution_count": 20,
   "metadata": {},
   "outputs": [
    {
     "data": {
      "text/plain": [
       "4509.0"
      ]
     },
     "execution_count": 20,
     "metadata": {},
     "output_type": "execute_result"
    }
   ],
   "source": [
    "counter.online_df.groupby('timestamp')['cumulative_wine_consumption'].sum().max() - counter.online_df.groupby('timestamp')['cumulative_wine_consumption'].sum().min() "
   ]
  },
  {
   "cell_type": "markdown",
   "metadata": {},
   "source": [
    "Splitting this up by wine type"
   ]
  },
  {
   "cell_type": "code",
   "execution_count": 26,
   "metadata": {},
   "outputs": [
    {
     "data": {
      "text/plain": [
       "wine_type\n",
       "Red wine      5193.0\n",
       "Rosé           699.0\n",
       "White wine    1169.0\n",
       "Name: wine_consumption, dtype: float64"
      ]
     },
     "execution_count": 26,
     "metadata": {},
     "output_type": "execute_result"
    }
   ],
   "source": [
    "counter.online_df.groupby(['wine_type']).sum()['wine_consumption']"
   ]
  },
  {
   "cell_type": "code",
   "execution_count": 27,
   "metadata": {},
   "outputs": [
    {
     "data": {
      "text/plain": [
       "7061.0"
      ]
     },
     "execution_count": 27,
     "metadata": {},
     "output_type": "execute_result"
    }
   ],
   "source": [
    "counter.online_df['wine_consumption'].sum()"
   ]
  },
  {
   "cell_type": "code",
   "execution_count": null,
   "metadata": {},
   "outputs": [],
   "source": []
  }
 ],
 "metadata": {
  "kernelspec": {
   "display_name": "Python 3",
   "language": "python",
   "name": "python3"
  },
  "language_info": {
   "codemirror_mode": {
    "name": "ipython",
    "version": 3
   },
   "file_extension": ".py",
   "mimetype": "text/x-python",
   "name": "python",
   "nbconvert_exporter": "python",
   "pygments_lexer": "ipython3",
   "version": "3.7.3"
  }
 },
 "nbformat": 4,
 "nbformat_minor": 4
}
