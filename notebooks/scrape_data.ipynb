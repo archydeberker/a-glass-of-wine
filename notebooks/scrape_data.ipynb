{
 "cells": [
  {
   "cell_type": "code",
   "execution_count": 1,
   "metadata": {},
   "outputs": [],
   "source": [
    "from bs4 import BeautifulSoup\n",
    "import requests\n",
    "from functools import lru_cache\n",
    "import re\n",
    "import datetime\n",
    "import time\n",
    "import pandas as pd\n",
    "import plotly.express as px\n",
    "import seaborn as sns"
   ]
  },
  {
   "cell_type": "code",
   "execution_count": 8,
   "metadata": {},
   "outputs": [],
   "source": [
    "pagelineplotrequests.get('https://www.saq.com/en/12073995')"
   ]
  },
  {
   "cell_type": "code",
   "execution_count": 9,
   "metadata": {},
   "outputs": [],
   "source": [
    "soup = BeautifulSoup(page.content)\n"
   ]
  },
  {
   "cell_type": "code",
   "execution_count": 10,
   "metadata": {},
   "outputs": [
    {
     "data": {
      "text/plain": [
       "<title>19 Crimes Shiraz/Grenache/Mataro | Product page | SAQ.COM</title>"
      ]
     },
     "execution_count": 10,
     "metadata": {},
     "output_type": "execute_result"
    }
   ],
   "source": [
    "soup.title"
   ]
  },
  {
   "cell_type": "code",
   "execution_count": 19,
   "metadata": {},
   "outputs": [
    {
     "data": {
      "text/plain": [
       "[]"
      ]
     },
     "execution_count": 19,
     "metadata": {},
     "output_type": "execute_result"
    }
   ],
   "source": [
    "soup.find_all('stock_label_container')"
   ]
  },
  {
   "cell_type": "code",
   "execution_count": 177,
   "metadata": {},
   "outputs": [],
   "source": [
    "HEADER = {'Host': 'www.saq.com',\n",
    "'Referer': 'https://www.saq.com/en/12073995',\n",
    "'Host': 'www.saq.com',\n",
    "'Accept': 'application/json',\n",
    "'X-Requested-With': 'XMLHttpRequest'}\n",
    "\n",
    "MAX_STORES = 100\n",
    "def retrieve_stock(product_id):\n",
    "    query = f\"https://www.saq.com/en/saq_inventory/product/internal/id/{product_id}/?_=1585498276470\"\n",
    "    response = requests.get(query, headers=HEADER)\n",
    "    return response.json()\n",
    "\n",
    "def _parse_stock_json_for_store(store_json):\n",
    "    output_list = []\n",
    "    for store in store_json['list']:\n",
    "        output_list.append({'id': store['identifier'],\n",
    "                     'name': store['name'],\n",
    "                     'postcode': store['postcode'],\n",
    "                     'qty': store['qty']})\n",
    "    return output_list\n",
    "    \n",
    "def retrieve_per_store_stock(product_id, max_stores=MAX_STORES):\n",
    "    # For per stock we need to use this other bloody ID\n",
    "    alt_product_id = fetch_alterantive_product_id(product_id)\n",
    "    \n",
    "    # It's paged, and we want to retrieve multiple sets of 10 stores\n",
    "    output = []\n",
    "    for loaded in range(0, max_stores, 10):\n",
    "        query=f'https://www.saq.com/en/store/locator/ajaxlist/context/product/id/{alt_product_id}?loaded={loaded}&_=1585504408733'\n",
    "        response = requests.get(query, headers=HEADER)\n",
    "        output.extend(_parse_stock_json_for_store(response.json()))\n",
    "    return output\n"
   ]
  },
  {
   "cell_type": "code",
   "execution_count": 262,
   "metadata": {},
   "outputs": [
    {
     "data": {
      "text/plain": [
       "{'stock': 156, 'source': 1}"
      ]
     },
     "execution_count": 262,
     "metadata": {},
     "output_type": "execute_result"
    }
   ],
   "source": [
    "retrieve_stock(305444)"
   ]
  },
  {
   "cell_type": "code",
   "execution_count": 180,
   "metadata": {},
   "outputs": [],
   "source": [
    "# some bottles don't seem to be queryable under their product code, instead we can fetch it from the pricebox"
   ]
  },
  {
   "cell_type": "code",
   "execution_count": 55,
   "metadata": {},
   "outputs": [],
   "source": [
    "page = requests.get('https://www.saq.com/en/14376324')\n",
    "soup = BeautifulSoup(page.content)"
   ]
  },
  {
   "cell_type": "code",
   "execution_count": 72,
   "metadata": {},
   "outputs": [],
   "source": [
    "ret = soup.find(\"div\", {'data-product-id':'*'})"
   ]
  },
  {
   "cell_type": "code",
   "execution_count": 73,
   "metadata": {},
   "outputs": [],
   "source": [
    "ret"
   ]
  },
  {
   "cell_type": "code",
   "execution_count": 77,
   "metadata": {},
   "outputs": [],
   "source": [
    "ret = soup.find('div', {'class':'price-box'})"
   ]
  },
  {
   "cell_type": "code",
   "execution_count": 86,
   "metadata": {},
   "outputs": [],
   "source": [
    "product_id = int(ret.attrs['data-product-id'])"
   ]
  },
  {
   "cell_type": "code",
   "execution_count": 94,
   "metadata": {},
   "outputs": [],
   "source": [
    "@lru_cache(maxsize=512)\n",
    "def fetch_alternative_product_id(original_product_id):\n",
    "    page = requests.get(f'https://www.saq.com/en/{original_product_id}')\n",
    "    soup = BeautifulSoup(page.content)\n",
    "    ret = soup.find('div', {'class':'price-box'})\n",
    "    product_id = int(ret.attrs['data-product-id'])\n",
    "    return product_id"
   ]
  },
  {
   "cell_type": "code",
   "execution_count": 95,
   "metadata": {},
   "outputs": [],
   "source": [
    "original = 14207918\n",
    "alternative=fetch_alternative_product_id(original)"
   ]
  },
  {
   "cell_type": "code",
   "execution_count": 96,
   "metadata": {},
   "outputs": [
    {
     "data": {
      "text/plain": [
       "{'stock': 8, 'source': 1}"
      ]
     },
     "execution_count": 96,
     "metadata": {},
     "output_type": "execute_result"
    }
   ],
   "source": [
    "retrieve_stock(alternative)"
   ]
  },
  {
   "cell_type": "code",
   "execution_count": 43,
   "metadata": {},
   "outputs": [],
   "source": [
    "def get_stock_from_webpage(url):\n",
    "    product_regex = '1{1}\\d{7}'\n",
    "\n",
    "    # Parse product ID out of webpage\n",
    "    product_id = re.search(product_regex, url).group(0)\n",
    "    \n",
    "    product_stock = get_stock_from_id(product_id)\n",
    "\n",
    "    return product_stock\n",
    "        \n",
    "    \n",
    "def get_stock_from_id(product_id):\n",
    "    per_store = retrieve_per_store_stock(product_id)\n",
    "    stock_json = retrieve_stock(product_id)\n",
    "\n",
    "    if stock_json['source'] == 2:\n",
    "        # Stored under alternative product id\n",
    "        alternative_product_id = fetch_alternative_product_id(product_id)\n",
    "        stock_json = retrieve_stock(alternative_product_id)    \n",
    "\n",
    "    return stock_json\n",
    "            \n",
    "def get_soup(url):\n",
    "    return BeautifulSoup(requests.get(url).content)\n",
    "    "
   ]
  },
  {
   "cell_type": "code",
   "execution_count": 101,
   "metadata": {},
   "outputs": [
    {
     "data": {
      "text/plain": [
       "{'stock': 627, 'source': 1}"
      ]
     },
     "execution_count": 101,
     "metadata": {},
     "output_type": "execute_result"
    }
   ],
   "source": [
    "get_stock_from_webpage('https://www.saq.com/fr/12073995')"
   ]
  },
  {
   "cell_type": "code",
   "execution_count": 102,
   "metadata": {},
   "outputs": [
    {
     "data": {
      "text/plain": [
       "{'stock': 156, 'source': 1}"
      ]
     },
     "execution_count": 102,
     "metadata": {},
     "output_type": "execute_result"
    }
   ],
   "source": [
    "get_stock_from_webpage('https://www.saq.com/fr/14376324')"
   ]
  },
  {
   "cell_type": "code",
   "execution_count": 103,
   "metadata": {},
   "outputs": [],
   "source": [
    "# Get all the red wines\n",
    "base_url = 'https://www.saq.com/en/products/wine/red-wine?product_list_limit=96'"
   ]
  },
  {
   "cell_type": "code",
   "execution_count": 106,
   "metadata": {},
   "outputs": [],
   "source": [
    "red_wine_soup = get_soup(base_url)"
   ]
  },
  {
   "cell_type": "code",
   "execution_count": 112,
   "metadata": {},
   "outputs": [],
   "source": [
    "list_items = red_wine_soup.find('ol', {'class': 'product-items'})\n"
   ]
  },
  {
   "cell_type": "code",
   "execution_count": 118,
   "metadata": {},
   "outputs": [],
   "source": [
    "children = list_items.findChildren('li', {'class': 'item product product-item'})"
   ]
  },
  {
   "cell_type": "code",
   "execution_count": 120,
   "metadata": {},
   "outputs": [
    {
     "data": {
      "text/plain": [
       "96"
      ]
     },
     "execution_count": 120,
     "metadata": {},
     "output_type": "execute_result"
    }
   ],
   "source": [
    "len(children)"
   ]
  },
  {
   "cell_type": "code",
   "execution_count": 123,
   "metadata": {},
   "outputs": [
    {
     "data": {
      "text/plain": [
       "'207143'"
      ]
     },
     "execution_count": 123,
     "metadata": {},
     "output_type": "execute_result"
    }
   ],
   "source": [
    "children[0].find('div', {'product'}).attrs['data-product-id']"
   ]
  },
  {
   "cell_type": "code",
   "execution_count": 124,
   "metadata": {},
   "outputs": [],
   "source": [
    "def parse_product_list(product_list_url):\n",
    "\n",
    "    wine_soup = get_soup(product_list_url)\n",
    "    list_items = red_wine_soup.find('ol', {'class': 'product-items'})\n",
    "    children = list_items.findChildren('li', {'class': 'item product product-item'})\n",
    "    product_ids = []\n",
    "    for c in children:\n",
    "        product_names.append(c.find, 'div', {'class':'product-item-content-container'})\n",
    "        product_ids.append(c.find('div', {'product'}).attrs['data-product-id'])\n",
    "    return product_ids"
   ]
  },
  {
   "cell_type": "code",
   "execution_count": 125,
   "metadata": {},
   "outputs": [],
   "source": [
    "product_ids = parse_product_list(base_url)"
   ]
  },
  {
   "cell_type": "code",
   "execution_count": 127,
   "metadata": {},
   "outputs": [],
   "source": [
    "product_urls = [f\"https://www.saq.com/fr/{product_id}\" for id in product_ids]"
   ]
  },
  {
   "cell_type": "code",
   "execution_count": 131,
   "metadata": {},
   "outputs": [],
   "source": [
    "product_stock = [get_stock_from_id(id) for id in product_ids]"
   ]
  },
  {
   "cell_type": "code",
   "execution_count": 282,
   "metadata": {},
   "outputs": [],
   "source": [
    "red_wine_soup = get_soup(base_url)"
   ]
  },
  {
   "cell_type": "code",
   "execution_count": 283,
   "metadata": {},
   "outputs": [],
   "source": [
    "list_items = red_wine_soup.find('ol', {'class': 'product-items'})\n",
    "children = list_items.findChildren('li', {'class': 'item product product-item'})"
   ]
  },
  {
   "cell_type": "code",
   "execution_count": 286,
   "metadata": {},
   "outputs": [],
   "source": [
    "c = children[0]"
   ]
  },
  {
   "cell_type": "code",
   "execution_count": 291,
   "metadata": {},
   "outputs": [
    {
     "data": {
      "text/plain": [
       "'\\n                                19 Crimes Shiraz/Grenache/Mataro                                                                                                                                        750                                    ml                                                            '"
      ]
     },
     "execution_count": 291,
     "metadata": {},
     "output_type": "execute_result"
    }
   ],
   "source": [
    "c.find('span', {'class': 'show-for-sr'}).text"
   ]
  },
  {
   "cell_type": "markdown",
   "metadata": {},
   "source": [
    "## In store availability"
   ]
  },
  {
   "cell_type": "markdown",
   "metadata": {},
   "source": [
    "A sanity check: pick a single wine, get its availablity across 100 stores every minute for 10 minutes - do they change"
   ]
  },
  {
   "cell_type": "code",
   "execution_count": 269,
   "metadata": {},
   "outputs": [],
   "source": [
    "a = {'a': 5}\n",
    "b = {'b': 10}\n",
    "a.update(b)"
   ]
  },
  {
   "cell_type": "code",
   "execution_count": 270,
   "metadata": {},
   "outputs": [
    {
     "data": {
      "text/plain": [
       "{'a': 5, 'b': 10}"
      ]
     },
     "execution_count": 270,
     "metadata": {},
     "output_type": "execute_result"
    }
   ],
   "source": [
    "a\n"
   ]
  },
  {
   "cell_type": "code",
   "execution_count": 182,
   "metadata": {},
   "outputs": [],
   "source": [
    "product_id = 12073995"
   ]
  },
  {
   "cell_type": "code",
   "execution_count": 184,
   "metadata": {},
   "outputs": [],
   "source": [
    "timesteps = 10"
   ]
  },
  {
   "cell_type": "code",
   "execution_count": 275,
   "metadata": {},
   "outputs": [],
   "source": [
    "red_wine_ids = parse_product_list('https://www.saq.com/en/products/wine/red-wine?product_list_limit=96')"
   ]
  },
  {
   "cell_type": "code",
   "execution_count": 276,
   "metadata": {},
   "outputs": [
    {
     "name": "stdout",
     "output_type": "stream",
     "text": [
      "0\n",
      "1\n",
      "2\n",
      "3\n",
      "4\n",
      "5\n",
      "6\n",
      "7\n",
      "8\n",
      "9\n"
     ]
    }
   ],
   "source": [
    "output=[]\n",
    "web_output = []\n",
    "for i in range(timesteps):\n",
    "    print(i)\n",
    "    now = datetime.datetime.now()\n",
    "    time_dict = {'time':now}\n",
    "#     output.append([s.update(time_dict) for s in retrieve_per_store_stock(product_id)])\n",
    "    \n",
    "    for id in red_wine_ids:\n",
    "        data = get_stock_from_id(product_id)\n",
    "        data.update(time_dict)\n",
    "        data.update({'product_id': id})\n",
    "        \n",
    "    web_output.append(data)\n",
    "    time.sleep(10)"
   ]
  },
  {
   "cell_type": "code",
   "execution_count": 278,
   "metadata": {},
   "outputs": [
    {
     "data": {
      "text/plain": [
       "[{'stock': 613,\n",
       "  'source': 1,\n",
       "  'time': datetime.datetime(2020, 3, 29, 15, 2, 7, 937062),\n",
       "  'product_id': '286490'},\n",
       " {'stock': 613,\n",
       "  'source': 1,\n",
       "  'time': datetime.datetime(2020, 3, 29, 15, 3, 44, 790203),\n",
       "  'product_id': '286490'},\n",
       " {'stock': 613,\n",
       "  'source': 1,\n",
       "  'time': datetime.datetime(2020, 3, 29, 15, 5, 18, 626491),\n",
       "  'product_id': '286490'},\n",
       " {'stock': 613,\n",
       "  'source': 1,\n",
       "  'time': datetime.datetime(2020, 3, 29, 15, 6, 53, 906096),\n",
       "  'product_id': '286490'},\n",
       " {'stock': 613,\n",
       "  'source': 1,\n",
       "  'time': datetime.datetime(2020, 3, 29, 15, 8, 34, 813680),\n",
       "  'product_id': '286490'},\n",
       " {'stock': 613,\n",
       "  'source': 1,\n",
       "  'time': datetime.datetime(2020, 3, 29, 15, 10, 13, 823809),\n",
       "  'product_id': '286490'},\n",
       " {'stock': 613,\n",
       "  'source': 1,\n",
       "  'time': datetime.datetime(2020, 3, 29, 15, 11, 46, 665644),\n",
       "  'product_id': '286490'},\n",
       " {'stock': 613,\n",
       "  'source': 1,\n",
       "  'time': datetime.datetime(2020, 3, 29, 15, 13, 19, 199986),\n",
       "  'product_id': '286490'},\n",
       " {'stock': 613,\n",
       "  'source': 1,\n",
       "  'time': datetime.datetime(2020, 3, 29, 15, 14, 54, 499802),\n",
       "  'product_id': '286490'},\n",
       " {'stock': 613,\n",
       "  'source': 1,\n",
       "  'time': datetime.datetime(2020, 3, 29, 15, 16, 34, 175256),\n",
       "  'product_id': '286490'}]"
      ]
     },
     "execution_count": 278,
     "metadata": {},
     "output_type": "execute_result"
    }
   ],
   "source": [
    "web_output"
   ]
  },
  {
   "cell_type": "code",
   "execution_count": 208,
   "metadata": {},
   "outputs": [],
   "source": [
    "# We really just want times x stores x quantity"
   ]
  },
  {
   "cell_type": "code",
   "execution_count": 215,
   "metadata": {},
   "outputs": [],
   "source": [
    "def remap_output(input):\n",
    "    out = []\n",
    "    for time, item in input.items():\n",
    "        for store in item:\n",
    "            out.append(dict(time=time, store=store['name'], qty=store['qty']))\n",
    "    return out"
   ]
  },
  {
   "cell_type": "code",
   "execution_count": 217,
   "metadata": {},
   "outputs": [],
   "source": [
    "flat_format = remap_output(output)"
   ]
  },
  {
   "cell_type": "code",
   "execution_count": 222,
   "metadata": {},
   "outputs": [],
   "source": [
    "df = pd.DataFrame(flat_format)"
   ]
  },
  {
   "cell_type": "code",
   "execution_count": 237,
   "metadata": {},
   "outputs": [],
   "source": [
    "df['qty'] = df['qty'].astype(int)"
   ]
  },
  {
   "cell_type": "code",
   "execution_count": 238,
   "metadata": {},
   "outputs": [
    {
     "data": {
      "text/plain": [
       "<matplotlib.axes._subplots.AxesSubplot at 0x13df9ef60>"
      ]
     },
     "execution_count": 238,
     "metadata": {},
     "output_type": "execute_result"
    },
    {
     "data": {
      "image/png": "[encoded data removed]",
      "text/plain": [
       "<Figure size 432x288 with 1 Axes>"
      ]
     },
     "metadata": {
      "needs_background": "light"
     },
     "output_type": "display_data"
    }
   ],
   "source": [
    "sns.lineplot(data=df, x='time', y='qty', hue='store')"
   ]
  },
  {
   "cell_type": "code",
   "execution_count": 239,
   "metadata": {},
   "outputs": [
    {
     "data": {
      "text/plain": [
       "32100"
      ]
     },
     "execution_count": 239,
     "metadata": {},
     "output_type": "execute_result"
    }
   ],
   "source": [
    "df.qty.sum()"
   ]
  },
  {
   "cell_type": "code",
   "execution_count": 240,
   "metadata": {},
   "outputs": [
    {
     "data": {
      "text/plain": [
       "0      17\n",
       "1      11\n",
       "2      11\n",
       "3      21\n",
       "4      12\n",
       "       ..\n",
       "995    22\n",
       "996    10\n",
       "997    21\n",
       "998    28\n",
       "999    24\n",
       "Name: qty, Length: 1000, dtype: int64"
      ]
     },
     "execution_count": 240,
     "metadata": {},
     "output_type": "execute_result"
    }
   ],
   "source": [
    "df.qty"
   ]
  },
  {
   "cell_type": "code",
   "execution_count": 253,
   "metadata": {},
   "outputs": [
    {
     "data": {
      "text/html": [
       "<div>\n",
       "<style scoped>\n",
       "    .dataframe tbody tr th:only-of-type {\n",
       "        vertical-align: middle;\n",
       "    }\n",
       "\n",
       "    .dataframe tbody tr th {\n",
       "        vertical-align: top;\n",
       "    }\n",
       "\n",
       "    .dataframe thead th {\n",
       "        text-align: right;\n",
       "    }\n",
       "</style>\n",
       "<table border=\"1\" class=\"dataframe\">\n",
       "  <thead>\n",
       "    <tr style=\"text-align: right;\">\n",
       "      <th></th>\n",
       "      <th>qty</th>\n",
       "    </tr>\n",
       "    <tr>\n",
       "      <th>time</th>\n",
       "      <th></th>\n",
       "    </tr>\n",
       "  </thead>\n",
       "  <tbody>\n",
       "    <tr>\n",
       "      <th>2020-03-29 14:17:26.170428</th>\n",
       "      <td>3210</td>\n",
       "    </tr>\n",
       "    <tr>\n",
       "      <th>2020-03-29 14:18:32.282484</th>\n",
       "      <td>3210</td>\n",
       "    </tr>\n",
       "    <tr>\n",
       "      <th>2020-03-29 14:19:37.657980</th>\n",
       "      <td>3210</td>\n",
       "    </tr>\n",
       "    <tr>\n",
       "      <th>2020-03-29 14:20:43.300203</th>\n",
       "      <td>3210</td>\n",
       "    </tr>\n",
       "    <tr>\n",
       "      <th>2020-03-29 14:21:50.370151</th>\n",
       "      <td>3210</td>\n",
       "    </tr>\n",
       "    <tr>\n",
       "      <th>2020-03-29 14:22:56.936546</th>\n",
       "      <td>3210</td>\n",
       "    </tr>\n",
       "    <tr>\n",
       "      <th>2020-03-29 14:24:03.395453</th>\n",
       "      <td>3210</td>\n",
       "    </tr>\n",
       "    <tr>\n",
       "      <th>2020-03-29 14:25:08.675630</th>\n",
       "      <td>3210</td>\n",
       "    </tr>\n",
       "    <tr>\n",
       "      <th>2020-03-29 14:26:15.086523</th>\n",
       "      <td>3210</td>\n",
       "    </tr>\n",
       "    <tr>\n",
       "      <th>2020-03-29 14:27:21.289591</th>\n",
       "      <td>3210</td>\n",
       "    </tr>\n",
       "  </tbody>\n",
       "</table>\n",
       "</div>"
      ],
      "text/plain": [
       "                             qty\n",
       "time                            \n",
       "2020-03-29 14:17:26.170428  3210\n",
       "2020-03-29 14:18:32.282484  3210\n",
       "2020-03-29 14:19:37.657980  3210\n",
       "2020-03-29 14:20:43.300203  3210\n",
       "2020-03-29 14:21:50.370151  3210\n",
       "2020-03-29 14:22:56.936546  3210\n",
       "2020-03-29 14:24:03.395453  3210\n",
       "2020-03-29 14:25:08.675630  3210\n",
       "2020-03-29 14:26:15.086523  3210\n",
       "2020-03-29 14:27:21.289591  3210"
      ]
     },
     "execution_count": 253,
     "metadata": {},
     "output_type": "execute_result"
    }
   ],
   "source": [
    "df.groupby('time').sum()"
   ]
  },
  {
   "cell_type": "code",
   "execution_count": 254,
   "metadata": {},
   "outputs": [],
   "source": [
    "latest = retrieve_per_store_stock(product_id)"
   ]
  },
  {
   "cell_type": "code",
   "execution_count": 258,
   "metadata": {},
   "outputs": [],
   "source": [
    "total = sum([int(l['qty']) for l in latest])"
   ]
  },
  {
   "cell_type": "code",
   "execution_count": 259,
   "metadata": {},
   "outputs": [
    {
     "data": {
      "text/plain": [
       "3210"
      ]
     },
     "execution_count": 259,
     "metadata": {},
     "output_type": "execute_result"
    }
   ],
   "source": [
    "total"
   ]
  },
  {
   "cell_type": "code",
   "execution_count": 18,
   "metadata": {},
   "outputs": [],
   "source": [
    "html = requests.get('https://www.saq.com/en/products/wine?availability=Online')"
   ]
  },
  {
   "cell_type": "code",
   "execution_count": 19,
   "metadata": {},
   "outputs": [],
   "source": [
    "wine_soup = BeautifulSoup(html.content)"
   ]
  },
  {
   "cell_type": "code",
   "execution_count": 24,
   "metadata": {},
   "outputs": [
    {
     "data": {
      "text/plain": [
       "['1176']"
      ]
     },
     "execution_count": 24,
     "metadata": {},
     "output_type": "execute_result"
    }
   ],
   "source": [
    "wine_soup.find_all('span', {'class': 'toolbar-number'})[-1].contents"
   ]
  },
  {
   "cell_type": "code",
   "execution_count": 4,
   "metadata": {},
   "outputs": [],
   "source": [
    "list_items = wine_soup.find('ol', {'class': 'product-items'})\n",
    "children = list_items.findChildren('li', {'class': 'item product product-item'})\n",
    "product_ids = []\n",
    "product_names = []\n",
    "product_images = []\n",
    "c = children[0]"
   ]
  },
  {
   "cell_type": "code",
   "execution_count": 25,
   "metadata": {},
   "outputs": [],
   "source": [
    "span = c.find('strong', {'class': 'product-item-identity-format'}).findChildren('span')[0].contents[0].strip()"
   ]
  },
  {
   "cell_type": "code",
   "execution_count": 26,
   "metadata": {},
   "outputs": [
    {
     "data": {
      "text/plain": [
       "'Red wine'"
      ]
     },
     "execution_count": 26,
     "metadata": {},
     "output_type": "execute_result"
    }
   ],
   "source": [
    "span"
   ]
  },
  {
   "cell_type": "code",
   "execution_count": 36,
   "metadata": {},
   "outputs": [],
   "source": [
    "span = c.find('strong', {'class': 'product-item-identity-format'}).findChildren('span')"
   ]
  },
  {
   "cell_type": "code",
   "execution_count": 37,
   "metadata": {},
   "outputs": [
    {
     "data": {
      "text/plain": [
       "[<span>\n",
       "                                             Red wine                                                                                                    <span class=\"divider\"> | </span>\n",
       "                                                     750                                                    ml                                                                                                                                                                                        <span class=\"divider\"> | </span>\n",
       "                                                 Spain                                                                                    </span>,\n",
       " <span class=\"divider\"> | </span>,\n",
       " <span class=\"divider\"> | </span>]"
      ]
     },
     "execution_count": 37,
     "metadata": {},
     "output_type": "execute_result"
    }
   ],
   "source": [
    "span"
   ]
  },
  {
   "cell_type": "code",
   "execution_count": 41,
   "metadata": {},
   "outputs": [
    {
     "data": {
      "text/plain": [
       "'Spain'"
      ]
     },
     "execution_count": 41,
     "metadata": {},
     "output_type": "execute_result"
    }
   ],
   "source": [
    "span[0].contents[-1].strip()"
   ]
  },
  {
   "cell_type": "markdown",
   "metadata": {},
   "source": [
    "# Wikipedia data for cases"
   ]
  },
  {
   "cell_type": "code",
   "execution_count": 46,
   "metadata": {},
   "outputs": [],
   "source": [
    "wiki_soup = get_soup('https://en.wikipedia.org/wiki/Template:2019–20_coronavirus_pandemic_data/Canada/Quebec_medical_cases_chart')"
   ]
  },
  {
   "cell_type": "code",
   "execution_count": 49,
   "metadata": {},
   "outputs": [],
   "source": [
    "case_table = wiki_soup.find('table')"
   ]
  },
  {
   "cell_type": "code",
   "execution_count": 51,
   "metadata": {},
   "outputs": [],
   "source": [
    "all_rows = case_table.findAll('tr')"
   ]
  },
  {
   "cell_type": "code",
   "execution_count": 54,
   "metadata": {},
   "outputs": [
    {
     "data": {
      "text/plain": [
       "<tr>\n",
       "<td colspan=\"2\" style=\"padding-left:0.4em; padding-right:0.4em; text-align:center\">2020-02-28</td>\n",
       "<td style=\"border-left:1px solid silver; border-right:1px solid silver\">\n",
       "<div style=\"background:Black; float:left; overflow:hidden; width:0px\" title=\"0\">​</div>\n",
       "<div style=\"background:SkyBlue; float:left; overflow:hidden; width:0px\" title=\"0\">​</div>\n",
       "<div style=\"background:Tomato; float:left; overflow:hidden; width:0.058555627846454px\" title=\"1\">​</div>\n",
       "<div style=\"background:Gold; float:left; overflow:hidden; width:0px\" title=\"0\">​</div>\n",
       "<div style=\"background:OrangeRed; float:left; overflow:hidden; width:0px\" title=\"0\">​</div>\n",
       "</td>\n",
       "<td style=\"padding-left:0.4em; padding-right:0.4em; text-align:center\"><span class=\"nowrap\"><span style=\"width:3.5em; padding:0 0.3em 0 0; text-align:right; display:inline-block\">1</span><span style=\"width:4.55em; text-align:left; display:inline-block\">(n.a.)</span>\n",
       "</span></td>\n",
       "<td style=\"padding-left:0.4em; padding-right:0.4em; text-align:center\"><span style=\"width:4.55em; padding:0 0.3em 0 0; text-align:right; display:inline-block\"></span><span style=\"width:3.5em; text-align:left; display:inline-block\"></span></td>\n",
       "</tr>"
      ]
     },
     "execution_count": 54,
     "metadata": {},
     "output_type": "execute_result"
    }
   ],
   "source": [
    "# First row \n",
    "all_rows[2]"
   ]
  },
  {
   "cell_type": "code",
   "execution_count": 71,
   "metadata": {},
   "outputs": [],
   "source": [
    "date = all_rows[2].findAll('td')[0].contents[0]"
   ]
  },
  {
   "cell_type": "code",
   "execution_count": 72,
   "metadata": {},
   "outputs": [
    {
     "data": {
      "text/plain": [
       "'2020-02-28'"
      ]
     },
     "execution_count": 72,
     "metadata": {},
     "output_type": "execute_result"
    }
   ],
   "source": [
    "date"
   ]
  },
  {
   "cell_type": "code",
   "execution_count": 81,
   "metadata": {},
   "outputs": [
    {
     "name": "stdout",
     "output_type": "stream",
     "text": [
      "['2020-02-28']\n",
      "['\\n', <div style=\"background:Black; float:left; overflow:hidden; width:0px\" title=\"0\">​</div>, '\\n', <div style=\"background:SkyBlue; float:left; overflow:hidden; width:0px\" title=\"0\">​</div>, '\\n', <div style=\"background:Tomato; float:left; overflow:hidden; width:0.058555627846454px\" title=\"1\">​</div>, '\\n', <div style=\"background:Gold; float:left; overflow:hidden; width:0px\" title=\"0\">​</div>, '\\n', <div style=\"background:OrangeRed; float:left; overflow:hidden; width:0px\" title=\"0\">​</div>, '\\n']\n",
      "[<span class=\"nowrap\"><span style=\"width:3.5em; padding:0 0.3em 0 0; text-align:right; display:inline-block\">1</span><span style=\"width:4.55em; text-align:left; display:inline-block\">(n.a.)</span>\n",
      "</span>]\n",
      "[<span style=\"width:4.55em; padding:0 0.3em 0 0; text-align:right; display:inline-block\"></span>, <span style=\"width:3.5em; text-align:left; display:inline-block\"></span>]\n"
     ]
    }
   ],
   "source": [
    "for cols in all_rows[2].findAll('td'):\n",
    "    print(cols.contents)"
   ]
  },
  {
   "cell_type": "code",
   "execution_count": 86,
   "metadata": {},
   "outputs": [],
   "source": [
    "case = all_rows[2].findAll('td')[2].contents[0].find('span').contents[0]"
   ]
  },
  {
   "cell_type": "code",
   "execution_count": 100,
   "metadata": {},
   "outputs": [
    {
     "data": {
      "text/plain": [
       "'4'"
      ]
     },
     "execution_count": 100,
     "metadata": {},
     "output_type": "execute_result"
    }
   ],
   "source": [
    "all_rows[20].findAll('td')[3].contents[0].contents[0]"
   ]
  },
  {
   "cell_type": "code",
   "execution_count": 103,
   "metadata": {},
   "outputs": [
    {
     "name": "stdout",
     "output_type": "stream",
     "text": [
      "2020-02-28 1 0\n",
      "2020-03-5 2 0\n",
      "2020-03-6 3 0\n",
      "2020-03-7 3 0\n",
      "2020-03-8 4 0\n",
      "2020-03-9 4 0\n",
      "2020-03-10 7 0\n",
      "2020-03-11 8 0\n",
      "2020-03-12 17 0\n",
      "2020-03-13 17 0\n",
      "2020-03-14 24 0\n",
      "2020-03-15 39 0\n",
      "2020-03-16 50 0\n",
      "2020-03-17 74 0\n",
      "2020-03-18 94 1\n",
      "2020-03-19 121 1\n",
      "2020-03-20 139 1\n",
      "2020-03-21 181 4\n",
      "2020-03-22 219 4\n",
      "2020-03-23 628* 4\n",
      "2020-03-24 1040 4\n",
      "2020-03-25 1339 6\n",
      "2020-03-26 1629 8\n",
      "2020-03-27 2021 18\n",
      "2020-03-28 2498 22\n",
      "2020-03-29 2840 22\n",
      "2020-03-30 3430 25\n",
      "2020-03-31 4162 31\n",
      "2020-04-1 4611 33\n"
     ]
    }
   ],
   "source": [
    "for i, row in enumerate(all_rows[2:31]):\n",
    "    date = row.findAll('td')[0].contents[0]\n",
    "    cases = row.findAll('td')[2].contents[0].find('span').contents[0]\n",
    "    try:\n",
    "        deaths = row.findAll('td')[3].contents[0].contents[0]\n",
    "    except:\n",
    "        deaths = 0\n",
    "    print(date, cases, deaths)"
   ]
  },
  {
   "cell_type": "markdown",
   "metadata": {},
   "source": [
    "# Use downloaded .xlsx instead"
   ]
  },
  {
   "cell_type": "code",
   "execution_count": 104,
   "metadata": {},
   "outputs": [],
   "source": [
    "download_url = 'https://docs.google.com/spreadsheets/d/1D6okqtBS3S2NRC7GFVHzaZ67DuTw7LX49-fqSLwJyeo/export?format=xlsx'"
   ]
  },
  {
   "cell_type": "code",
   "execution_count": 105,
   "metadata": {},
   "outputs": [],
   "source": [
    "path_to_download = '/Users/archydeberker/Desktop/code/saq/scripts/canada_case_data_20200401-192009.csv'\n",
    "!pip install xlrd"
   ]
  },
  {
   "cell_type": "code",
   "execution_count": 117,
   "metadata": {},
   "outputs": [],
   "source": [
    "cases_df = pd.read_excel(path_to_download, header=3)\n",
    "deaths_df = pd.read_excel(path_to_download, header=3, sheet_name=1)\n",
    "recovered_df = pd.read_excel(path_to_download, header=3, sheet_name=2)"
   ]
  },
  {
   "cell_type": "code",
   "execution_count": 118,
   "metadata": {},
   "outputs": [],
   "source": [
    "def filter_for_quebec(df):\n",
    "    return df.loc[df['province']=='Quebec']"
   ]
  },
  {
   "cell_type": "code",
   "execution_count": 120,
   "metadata": {},
   "outputs": [],
   "source": [
    "cases_df= filter_for_quebec(cases_df)\n",
    "deaths_df = filter_for_quebec(deaths_df)\n",
    "recovered_df = filter_for_quebec(recovered_df)"
   ]
  },
  {
   "cell_type": "code",
   "execution_count": 122,
   "metadata": {},
   "outputs": [
    {
     "data": {
      "text/html": [
       "<div>\n",
       "<style scoped>\n",
       "    .dataframe tbody tr th:only-of-type {\n",
       "        vertical-align: middle;\n",
       "    }\n",
       "\n",
       "    .dataframe tbody tr th {\n",
       "        vertical-align: top;\n",
       "    }\n",
       "\n",
       "    .dataframe thead th {\n",
       "        text-align: right;\n",
       "    }\n",
       "</style>\n",
       "<table border=\"1\" class=\"dataframe\">\n",
       "  <thead>\n",
       "    <tr style=\"text-align: right;\">\n",
       "      <th></th>\n",
       "      <th>date_recovered</th>\n",
       "      <th>province</th>\n",
       "      <th>cumulative_recovered</th>\n",
       "      <th>Unnamed: 3</th>\n",
       "      <th>Unnamed: 4</th>\n",
       "      <th>province_source</th>\n",
       "      <th>source</th>\n",
       "    </tr>\n",
       "  </thead>\n",
       "  <tbody>\n",
       "    <tr>\n",
       "      <th>392</th>\n",
       "      <td>2020-03-31</td>\n",
       "      <td>Quebec</td>\n",
       "      <td>84.0</td>\n",
       "      <td>NaN</td>\n",
       "      <td>NaN</td>\n",
       "      <td>NaN</td>\n",
       "      <td>NaN</td>\n",
       "    </tr>\n",
       "    <tr>\n",
       "      <th>393</th>\n",
       "      <td>2020-03-30</td>\n",
       "      <td>Quebec</td>\n",
       "      <td>84.0</td>\n",
       "      <td>NaN</td>\n",
       "      <td>NaN</td>\n",
       "      <td>NaN</td>\n",
       "      <td>NaN</td>\n",
       "    </tr>\n",
       "    <tr>\n",
       "      <th>394</th>\n",
       "      <td>2020-03-29</td>\n",
       "      <td>Quebec</td>\n",
       "      <td>84.0</td>\n",
       "      <td>NaN</td>\n",
       "      <td>NaN</td>\n",
       "      <td>NaN</td>\n",
       "      <td>NaN</td>\n",
       "    </tr>\n",
       "    <tr>\n",
       "      <th>395</th>\n",
       "      <td>2020-03-28</td>\n",
       "      <td>Quebec</td>\n",
       "      <td>29.0</td>\n",
       "      <td>NaN</td>\n",
       "      <td>NaN</td>\n",
       "      <td>NaN</td>\n",
       "      <td>NaN</td>\n",
       "    </tr>\n",
       "    <tr>\n",
       "      <th>396</th>\n",
       "      <td>2020-03-27</td>\n",
       "      <td>Quebec</td>\n",
       "      <td>29.0</td>\n",
       "      <td>NaN</td>\n",
       "      <td>NaN</td>\n",
       "      <td>NaN</td>\n",
       "      <td>NaN</td>\n",
       "    </tr>\n",
       "    <tr>\n",
       "      <th>397</th>\n",
       "      <td>2020-03-26</td>\n",
       "      <td>Quebec</td>\n",
       "      <td>1.0</td>\n",
       "      <td>NaN</td>\n",
       "      <td>NaN</td>\n",
       "      <td>NaN</td>\n",
       "      <td>NaN</td>\n",
       "    </tr>\n",
       "    <tr>\n",
       "      <th>398</th>\n",
       "      <td>2020-03-25</td>\n",
       "      <td>Quebec</td>\n",
       "      <td>1.0</td>\n",
       "      <td>NaN</td>\n",
       "      <td>NaN</td>\n",
       "      <td>NaN</td>\n",
       "      <td>NaN</td>\n",
       "    </tr>\n",
       "    <tr>\n",
       "      <th>399</th>\n",
       "      <td>2020-03-24</td>\n",
       "      <td>Quebec</td>\n",
       "      <td>1.0</td>\n",
       "      <td>NaN</td>\n",
       "      <td>NaN</td>\n",
       "      <td>NaN</td>\n",
       "      <td>NaN</td>\n",
       "    </tr>\n",
       "    <tr>\n",
       "      <th>400</th>\n",
       "      <td>2020-03-23</td>\n",
       "      <td>Quebec</td>\n",
       "      <td>1.0</td>\n",
       "      <td>NaN</td>\n",
       "      <td>NaN</td>\n",
       "      <td>NaN</td>\n",
       "      <td>NaN</td>\n",
       "    </tr>\n",
       "    <tr>\n",
       "      <th>401</th>\n",
       "      <td>2020-03-22</td>\n",
       "      <td>Quebec</td>\n",
       "      <td>1.0</td>\n",
       "      <td>NaN</td>\n",
       "      <td>NaN</td>\n",
       "      <td>NaN</td>\n",
       "      <td>NaN</td>\n",
       "    </tr>\n",
       "    <tr>\n",
       "      <th>402</th>\n",
       "      <td>2020-03-21</td>\n",
       "      <td>Quebec</td>\n",
       "      <td>1.0</td>\n",
       "      <td>NaN</td>\n",
       "      <td>NaN</td>\n",
       "      <td>NaN</td>\n",
       "      <td>NaN</td>\n",
       "    </tr>\n",
       "    <tr>\n",
       "      <th>403</th>\n",
       "      <td>2020-03-20</td>\n",
       "      <td>Quebec</td>\n",
       "      <td>1.0</td>\n",
       "      <td>NaN</td>\n",
       "      <td>NaN</td>\n",
       "      <td>NaN</td>\n",
       "      <td>NaN</td>\n",
       "    </tr>\n",
       "    <tr>\n",
       "      <th>404</th>\n",
       "      <td>2020-03-19</td>\n",
       "      <td>Quebec</td>\n",
       "      <td>1.0</td>\n",
       "      <td>NaN</td>\n",
       "      <td>NaN</td>\n",
       "      <td>NaN</td>\n",
       "      <td>NaN</td>\n",
       "    </tr>\n",
       "    <tr>\n",
       "      <th>405</th>\n",
       "      <td>2020-03-18</td>\n",
       "      <td>Quebec</td>\n",
       "      <td>1.0</td>\n",
       "      <td>NaN</td>\n",
       "      <td>NaN</td>\n",
       "      <td>NaN</td>\n",
       "      <td>NaN</td>\n",
       "    </tr>\n",
       "    <tr>\n",
       "      <th>406</th>\n",
       "      <td>2020-03-17</td>\n",
       "      <td>Quebec</td>\n",
       "      <td>0.0</td>\n",
       "      <td>NaN</td>\n",
       "      <td>NaN</td>\n",
       "      <td>NaN</td>\n",
       "      <td>NaN</td>\n",
       "    </tr>\n",
       "    <tr>\n",
       "      <th>407</th>\n",
       "      <td>2020-03-16</td>\n",
       "      <td>Quebec</td>\n",
       "      <td>0.0</td>\n",
       "      <td>NaN</td>\n",
       "      <td>NaN</td>\n",
       "      <td>NaN</td>\n",
       "      <td>NaN</td>\n",
       "    </tr>\n",
       "    <tr>\n",
       "      <th>408</th>\n",
       "      <td>2020-03-15</td>\n",
       "      <td>Quebec</td>\n",
       "      <td>0.0</td>\n",
       "      <td>NaN</td>\n",
       "      <td>NaN</td>\n",
       "      <td>NaN</td>\n",
       "      <td>NaN</td>\n",
       "    </tr>\n",
       "    <tr>\n",
       "      <th>409</th>\n",
       "      <td>2020-03-14</td>\n",
       "      <td>Quebec</td>\n",
       "      <td>0.0</td>\n",
       "      <td>NaN</td>\n",
       "      <td>NaN</td>\n",
       "      <td>NaN</td>\n",
       "      <td>NaN</td>\n",
       "    </tr>\n",
       "    <tr>\n",
       "      <th>410</th>\n",
       "      <td>2020-03-13</td>\n",
       "      <td>Quebec</td>\n",
       "      <td>0.0</td>\n",
       "      <td>NaN</td>\n",
       "      <td>NaN</td>\n",
       "      <td>NaN</td>\n",
       "      <td>NaN</td>\n",
       "    </tr>\n",
       "    <tr>\n",
       "      <th>411</th>\n",
       "      <td>2020-03-12</td>\n",
       "      <td>Quebec</td>\n",
       "      <td>0.0</td>\n",
       "      <td>NaN</td>\n",
       "      <td>NaN</td>\n",
       "      <td>NaN</td>\n",
       "      <td>NaN</td>\n",
       "    </tr>\n",
       "    <tr>\n",
       "      <th>412</th>\n",
       "      <td>2020-03-11</td>\n",
       "      <td>Quebec</td>\n",
       "      <td>0.0</td>\n",
       "      <td>NaN</td>\n",
       "      <td>NaN</td>\n",
       "      <td>NaN</td>\n",
       "      <td>NaN</td>\n",
       "    </tr>\n",
       "    <tr>\n",
       "      <th>413</th>\n",
       "      <td>2020-03-10</td>\n",
       "      <td>Quebec</td>\n",
       "      <td>0.0</td>\n",
       "      <td>NaN</td>\n",
       "      <td>NaN</td>\n",
       "      <td>NaN</td>\n",
       "      <td>NaN</td>\n",
       "    </tr>\n",
       "    <tr>\n",
       "      <th>414</th>\n",
       "      <td>2020-03-09</td>\n",
       "      <td>Quebec</td>\n",
       "      <td>0.0</td>\n",
       "      <td>NaN</td>\n",
       "      <td>NaN</td>\n",
       "      <td>NaN</td>\n",
       "      <td>NaN</td>\n",
       "    </tr>\n",
       "    <tr>\n",
       "      <th>415</th>\n",
       "      <td>2020-03-08</td>\n",
       "      <td>Quebec</td>\n",
       "      <td>0.0</td>\n",
       "      <td>NaN</td>\n",
       "      <td>NaN</td>\n",
       "      <td>NaN</td>\n",
       "      <td>NaN</td>\n",
       "    </tr>\n",
       "    <tr>\n",
       "      <th>416</th>\n",
       "      <td>2020-03-07</td>\n",
       "      <td>Quebec</td>\n",
       "      <td>0.0</td>\n",
       "      <td>NaN</td>\n",
       "      <td>NaN</td>\n",
       "      <td>NaN</td>\n",
       "      <td>NaN</td>\n",
       "    </tr>\n",
       "    <tr>\n",
       "      <th>417</th>\n",
       "      <td>2020-03-06</td>\n",
       "      <td>Quebec</td>\n",
       "      <td>0.0</td>\n",
       "      <td>NaN</td>\n",
       "      <td>NaN</td>\n",
       "      <td>NaN</td>\n",
       "      <td>NaN</td>\n",
       "    </tr>\n",
       "    <tr>\n",
       "      <th>418</th>\n",
       "      <td>2020-03-05</td>\n",
       "      <td>Quebec</td>\n",
       "      <td>0.0</td>\n",
       "      <td>NaN</td>\n",
       "      <td>NaN</td>\n",
       "      <td>NaN</td>\n",
       "      <td>NaN</td>\n",
       "    </tr>\n",
       "    <tr>\n",
       "      <th>419</th>\n",
       "      <td>2020-03-04</td>\n",
       "      <td>Quebec</td>\n",
       "      <td>0.0</td>\n",
       "      <td>NaN</td>\n",
       "      <td>NaN</td>\n",
       "      <td>NaN</td>\n",
       "      <td>NaN</td>\n",
       "    </tr>\n",
       "    <tr>\n",
       "      <th>420</th>\n",
       "      <td>2020-03-03</td>\n",
       "      <td>Quebec</td>\n",
       "      <td>0.0</td>\n",
       "      <td>NaN</td>\n",
       "      <td>NaN</td>\n",
       "      <td>NaN</td>\n",
       "      <td>NaN</td>\n",
       "    </tr>\n",
       "    <tr>\n",
       "      <th>421</th>\n",
       "      <td>2020-03-02</td>\n",
       "      <td>Quebec</td>\n",
       "      <td>0.0</td>\n",
       "      <td>NaN</td>\n",
       "      <td>NaN</td>\n",
       "      <td>NaN</td>\n",
       "      <td>NaN</td>\n",
       "    </tr>\n",
       "    <tr>\n",
       "      <th>422</th>\n",
       "      <td>2020-03-01</td>\n",
       "      <td>Quebec</td>\n",
       "      <td>0.0</td>\n",
       "      <td>NaN</td>\n",
       "      <td>NaN</td>\n",
       "      <td>NaN</td>\n",
       "      <td>NaN</td>\n",
       "    </tr>\n",
       "    <tr>\n",
       "      <th>423</th>\n",
       "      <td>2020-02-29</td>\n",
       "      <td>Quebec</td>\n",
       "      <td>0.0</td>\n",
       "      <td>NaN</td>\n",
       "      <td>NaN</td>\n",
       "      <td>NaN</td>\n",
       "      <td>NaN</td>\n",
       "    </tr>\n",
       "    <tr>\n",
       "      <th>424</th>\n",
       "      <td>2020-02-28</td>\n",
       "      <td>Quebec</td>\n",
       "      <td>0.0</td>\n",
       "      <td>NaN</td>\n",
       "      <td>NaN</td>\n",
       "      <td>NaN</td>\n",
       "      <td>NaN</td>\n",
       "    </tr>\n",
       "    <tr>\n",
       "      <th>425</th>\n",
       "      <td>2020-02-27</td>\n",
       "      <td>Quebec</td>\n",
       "      <td>0.0</td>\n",
       "      <td>NaN</td>\n",
       "      <td>NaN</td>\n",
       "      <td>NaN</td>\n",
       "      <td>NaN</td>\n",
       "    </tr>\n",
       "    <tr>\n",
       "      <th>426</th>\n",
       "      <td>2020-02-26</td>\n",
       "      <td>Quebec</td>\n",
       "      <td>NaN</td>\n",
       "      <td>NaN</td>\n",
       "      <td>NaN</td>\n",
       "      <td>NaN</td>\n",
       "      <td>NaN</td>\n",
       "    </tr>\n",
       "    <tr>\n",
       "      <th>427</th>\n",
       "      <td>2020-02-25</td>\n",
       "      <td>Quebec</td>\n",
       "      <td>NaN</td>\n",
       "      <td>NaN</td>\n",
       "      <td>NaN</td>\n",
       "      <td>NaN</td>\n",
       "      <td>NaN</td>\n",
       "    </tr>\n",
       "    <tr>\n",
       "      <th>428</th>\n",
       "      <td>2020-02-24</td>\n",
       "      <td>Quebec</td>\n",
       "      <td>NaN</td>\n",
       "      <td>NaN</td>\n",
       "      <td>NaN</td>\n",
       "      <td>NaN</td>\n",
       "      <td>NaN</td>\n",
       "    </tr>\n",
       "    <tr>\n",
       "      <th>429</th>\n",
       "      <td>2020-02-23</td>\n",
       "      <td>Quebec</td>\n",
       "      <td>NaN</td>\n",
       "      <td>NaN</td>\n",
       "      <td>NaN</td>\n",
       "      <td>NaN</td>\n",
       "      <td>NaN</td>\n",
       "    </tr>\n",
       "    <tr>\n",
       "      <th>430</th>\n",
       "      <td>2020-02-22</td>\n",
       "      <td>Quebec</td>\n",
       "      <td>NaN</td>\n",
       "      <td>NaN</td>\n",
       "      <td>NaN</td>\n",
       "      <td>NaN</td>\n",
       "      <td>NaN</td>\n",
       "    </tr>\n",
       "    <tr>\n",
       "      <th>431</th>\n",
       "      <td>2020-02-21</td>\n",
       "      <td>Quebec</td>\n",
       "      <td>NaN</td>\n",
       "      <td>NaN</td>\n",
       "      <td>NaN</td>\n",
       "      <td>NaN</td>\n",
       "      <td>NaN</td>\n",
       "    </tr>\n",
       "    <tr>\n",
       "      <th>432</th>\n",
       "      <td>2020-02-20</td>\n",
       "      <td>Quebec</td>\n",
       "      <td>NaN</td>\n",
       "      <td>NaN</td>\n",
       "      <td>NaN</td>\n",
       "      <td>NaN</td>\n",
       "      <td>NaN</td>\n",
       "    </tr>\n",
       "    <tr>\n",
       "      <th>433</th>\n",
       "      <td>2020-02-19</td>\n",
       "      <td>Quebec</td>\n",
       "      <td>NaN</td>\n",
       "      <td>NaN</td>\n",
       "      <td>NaN</td>\n",
       "      <td>NaN</td>\n",
       "      <td>NaN</td>\n",
       "    </tr>\n",
       "    <tr>\n",
       "      <th>434</th>\n",
       "      <td>2020-02-18</td>\n",
       "      <td>Quebec</td>\n",
       "      <td>NaN</td>\n",
       "      <td>NaN</td>\n",
       "      <td>NaN</td>\n",
       "      <td>NaN</td>\n",
       "      <td>NaN</td>\n",
       "    </tr>\n",
       "    <tr>\n",
       "      <th>435</th>\n",
       "      <td>2020-02-17</td>\n",
       "      <td>Quebec</td>\n",
       "      <td>NaN</td>\n",
       "      <td>NaN</td>\n",
       "      <td>NaN</td>\n",
       "      <td>NaN</td>\n",
       "      <td>NaN</td>\n",
       "    </tr>\n",
       "    <tr>\n",
       "      <th>436</th>\n",
       "      <td>2020-02-16</td>\n",
       "      <td>Quebec</td>\n",
       "      <td>NaN</td>\n",
       "      <td>NaN</td>\n",
       "      <td>NaN</td>\n",
       "      <td>NaN</td>\n",
       "      <td>NaN</td>\n",
       "    </tr>\n",
       "    <tr>\n",
       "      <th>437</th>\n",
       "      <td>2020-02-15</td>\n",
       "      <td>Quebec</td>\n",
       "      <td>NaN</td>\n",
       "      <td>NaN</td>\n",
       "      <td>NaN</td>\n",
       "      <td>NaN</td>\n",
       "      <td>NaN</td>\n",
       "    </tr>\n",
       "    <tr>\n",
       "      <th>438</th>\n",
       "      <td>2020-02-14</td>\n",
       "      <td>Quebec</td>\n",
       "      <td>NaN</td>\n",
       "      <td>NaN</td>\n",
       "      <td>NaN</td>\n",
       "      <td>NaN</td>\n",
       "      <td>NaN</td>\n",
       "    </tr>\n",
       "    <tr>\n",
       "      <th>439</th>\n",
       "      <td>2020-02-13</td>\n",
       "      <td>Quebec</td>\n",
       "      <td>NaN</td>\n",
       "      <td>NaN</td>\n",
       "      <td>NaN</td>\n",
       "      <td>NaN</td>\n",
       "      <td>NaN</td>\n",
       "    </tr>\n",
       "    <tr>\n",
       "      <th>440</th>\n",
       "      <td>2020-02-12</td>\n",
       "      <td>Quebec</td>\n",
       "      <td>NaN</td>\n",
       "      <td>NaN</td>\n",
       "      <td>NaN</td>\n",
       "      <td>NaN</td>\n",
       "      <td>NaN</td>\n",
       "    </tr>\n",
       "  </tbody>\n",
       "</table>\n",
       "</div>"
      ],
      "text/plain": [
       "    date_recovered province  cumulative_recovered  Unnamed: 3  Unnamed: 4  \\\n",
       "392     2020-03-31   Quebec                  84.0         NaN         NaN   \n",
       "393     2020-03-30   Quebec                  84.0         NaN         NaN   \n",
       "394     2020-03-29   Quebec                  84.0         NaN         NaN   \n",
       "395     2020-03-28   Quebec                  29.0         NaN         NaN   \n",
       "396     2020-03-27   Quebec                  29.0         NaN         NaN   \n",
       "397     2020-03-26   Quebec                   1.0         NaN         NaN   \n",
       "398     2020-03-25   Quebec                   1.0         NaN         NaN   \n",
       "399     2020-03-24   Quebec                   1.0         NaN         NaN   \n",
       "400     2020-03-23   Quebec                   1.0         NaN         NaN   \n",
       "401     2020-03-22   Quebec                   1.0         NaN         NaN   \n",
       "402     2020-03-21   Quebec                   1.0         NaN         NaN   \n",
       "403     2020-03-20   Quebec                   1.0         NaN         NaN   \n",
       "404     2020-03-19   Quebec                   1.0         NaN         NaN   \n",
       "405     2020-03-18   Quebec                   1.0         NaN         NaN   \n",
       "406     2020-03-17   Quebec                   0.0         NaN         NaN   \n",
       "407     2020-03-16   Quebec                   0.0         NaN         NaN   \n",
       "408     2020-03-15   Quebec                   0.0         NaN         NaN   \n",
       "409     2020-03-14   Quebec                   0.0         NaN         NaN   \n",
       "410     2020-03-13   Quebec                   0.0         NaN         NaN   \n",
       "411     2020-03-12   Quebec                   0.0         NaN         NaN   \n",
       "412     2020-03-11   Quebec                   0.0         NaN         NaN   \n",
       "413     2020-03-10   Quebec                   0.0         NaN         NaN   \n",
       "414     2020-03-09   Quebec                   0.0         NaN         NaN   \n",
       "415     2020-03-08   Quebec                   0.0         NaN         NaN   \n",
       "416     2020-03-07   Quebec                   0.0         NaN         NaN   \n",
       "417     2020-03-06   Quebec                   0.0         NaN         NaN   \n",
       "418     2020-03-05   Quebec                   0.0         NaN         NaN   \n",
       "419     2020-03-04   Quebec                   0.0         NaN         NaN   \n",
       "420     2020-03-03   Quebec                   0.0         NaN         NaN   \n",
       "421     2020-03-02   Quebec                   0.0         NaN         NaN   \n",
       "422     2020-03-01   Quebec                   0.0         NaN         NaN   \n",
       "423     2020-02-29   Quebec                   0.0         NaN         NaN   \n",
       "424     2020-02-28   Quebec                   0.0         NaN         NaN   \n",
       "425     2020-02-27   Quebec                   0.0         NaN         NaN   \n",
       "426     2020-02-26   Quebec                   NaN         NaN         NaN   \n",
       "427     2020-02-25   Quebec                   NaN         NaN         NaN   \n",
       "428     2020-02-24   Quebec                   NaN         NaN         NaN   \n",
       "429     2020-02-23   Quebec                   NaN         NaN         NaN   \n",
       "430     2020-02-22   Quebec                   NaN         NaN         NaN   \n",
       "431     2020-02-21   Quebec                   NaN         NaN         NaN   \n",
       "432     2020-02-20   Quebec                   NaN         NaN         NaN   \n",
       "433     2020-02-19   Quebec                   NaN         NaN         NaN   \n",
       "434     2020-02-18   Quebec                   NaN         NaN         NaN   \n",
       "435     2020-02-17   Quebec                   NaN         NaN         NaN   \n",
       "436     2020-02-16   Quebec                   NaN         NaN         NaN   \n",
       "437     2020-02-15   Quebec                   NaN         NaN         NaN   \n",
       "438     2020-02-14   Quebec                   NaN         NaN         NaN   \n",
       "439     2020-02-13   Quebec                   NaN         NaN         NaN   \n",
       "440     2020-02-12   Quebec                   NaN         NaN         NaN   \n",
       "\n",
       "    province_source source  \n",
       "392             NaN    NaN  \n",
       "393             NaN    NaN  \n",
       "394             NaN    NaN  \n",
       "395             NaN    NaN  \n",
       "396             NaN    NaN  \n",
       "397             NaN    NaN  \n",
       "398             NaN    NaN  \n",
       "399             NaN    NaN  \n",
       "400             NaN    NaN  \n",
       "401             NaN    NaN  \n",
       "402             NaN    NaN  \n",
       "403             NaN    NaN  \n",
       "404             NaN    NaN  \n",
       "405             NaN    NaN  \n",
       "406             NaN    NaN  \n",
       "407             NaN    NaN  \n",
       "408             NaN    NaN  \n",
       "409             NaN    NaN  \n",
       "410             NaN    NaN  \n",
       "411             NaN    NaN  \n",
       "412             NaN    NaN  \n",
       "413             NaN    NaN  \n",
       "414             NaN    NaN  \n",
       "415             NaN    NaN  \n",
       "416             NaN    NaN  \n",
       "417             NaN    NaN  \n",
       "418             NaN    NaN  \n",
       "419             NaN    NaN  \n",
       "420             NaN    NaN  \n",
       "421             NaN    NaN  \n",
       "422             NaN    NaN  \n",
       "423             NaN    NaN  \n",
       "424             NaN    NaN  \n",
       "425             NaN    NaN  \n",
       "426             NaN    NaN  \n",
       "427             NaN    NaN  \n",
       "428             NaN    NaN  \n",
       "429             NaN    NaN  \n",
       "430             NaN    NaN  \n",
       "431             NaN    NaN  \n",
       "432             NaN    NaN  \n",
       "433             NaN    NaN  \n",
       "434             NaN    NaN  \n",
       "435             NaN    NaN  \n",
       "436             NaN    NaN  \n",
       "437             NaN    NaN  \n",
       "438             NaN    NaN  \n",
       "439             NaN    NaN  \n",
       "440             NaN    NaN  "
      ]
     },
     "execution_count": 122,
     "metadata": {},
     "output_type": "execute_result"
    }
   ],
   "source": [
    "recovered_df"
   ]
  },
  {
   "cell_type": "code",
   "execution_count": 123,
   "metadata": {},
   "outputs": [
    {
     "data": {
      "text/html": [
       "<div>\n",
       "<style scoped>\n",
       "    .dataframe tbody tr th:only-of-type {\n",
       "        vertical-align: middle;\n",
       "    }\n",
       "\n",
       "    .dataframe tbody tr th {\n",
       "        vertical-align: top;\n",
       "    }\n",
       "\n",
       "    .dataframe thead th {\n",
       "        text-align: right;\n",
       "    }\n",
       "</style>\n",
       "<table border=\"1\" class=\"dataframe\">\n",
       "  <thead>\n",
       "    <tr style=\"text-align: right;\">\n",
       "      <th></th>\n",
       "      <th>death_id</th>\n",
       "      <th>province_death_id</th>\n",
       "      <th>case_id</th>\n",
       "      <th>age</th>\n",
       "      <th>sex</th>\n",
       "      <th>health_region</th>\n",
       "      <th>province</th>\n",
       "      <th>country</th>\n",
       "      <th>date_death_report</th>\n",
       "      <th>death_source</th>\n",
       "      <th>additional_info</th>\n",
       "      <th>additional_source</th>\n",
       "    </tr>\n",
       "  </thead>\n",
       "  <tbody>\n",
       "    <tr>\n",
       "      <th>8</th>\n",
       "      <td>9</td>\n",
       "      <td>1</td>\n",
       "      <td>NaN</td>\n",
       "      <td>80-89</td>\n",
       "      <td>Female</td>\n",
       "      <td>Lanaudière</td>\n",
       "      <td>Quebec</td>\n",
       "      <td>Canada</td>\n",
       "      <td>2020-03-18</td>\n",
       "      <td>NaN</td>\n",
       "      <td>1.0</td>\n",
       "      <td>https://montreal.ctvnews.ca/covid-19-quebec-ha...</td>\n",
       "    </tr>\n",
       "    <tr>\n",
       "      <th>14</th>\n",
       "      <td>15</td>\n",
       "      <td>2</td>\n",
       "      <td>NaN</td>\n",
       "      <td>Not Reported</td>\n",
       "      <td>Not Reported</td>\n",
       "      <td>Lanaudière</td>\n",
       "      <td>Quebec</td>\n",
       "      <td>Canada</td>\n",
       "      <td>2020-03-21</td>\n",
       "      <td>NaN</td>\n",
       "      <td>1.0</td>\n",
       "      <td>https://montreal.ctvnews.ca/quebec-premier-ann...</td>\n",
       "    </tr>\n",
       "    <tr>\n",
       "      <th>15</th>\n",
       "      <td>16</td>\n",
       "      <td>3</td>\n",
       "      <td>NaN</td>\n",
       "      <td>Not Reported</td>\n",
       "      <td>Not Reported</td>\n",
       "      <td>Lanaudière</td>\n",
       "      <td>Quebec</td>\n",
       "      <td>Canada</td>\n",
       "      <td>2020-03-21</td>\n",
       "      <td>NaN</td>\n",
       "      <td>1.0</td>\n",
       "      <td>https://montreal.ctvnews.ca/quebec-premier-ann...</td>\n",
       "    </tr>\n",
       "    <tr>\n",
       "      <th>16</th>\n",
       "      <td>17</td>\n",
       "      <td>4</td>\n",
       "      <td>NaN</td>\n",
       "      <td>Not Reported</td>\n",
       "      <td>Not Reported</td>\n",
       "      <td>Lanaudière</td>\n",
       "      <td>Quebec</td>\n",
       "      <td>Canada</td>\n",
       "      <td>2020-03-21</td>\n",
       "      <td>NaN</td>\n",
       "      <td>1.0</td>\n",
       "      <td>https://montreal.ctvnews.ca/quebec-premier-ann...</td>\n",
       "    </tr>\n",
       "    <tr>\n",
       "      <th>28</th>\n",
       "      <td>29</td>\n",
       "      <td>5</td>\n",
       "      <td>NaN</td>\n",
       "      <td>Not Reported</td>\n",
       "      <td>Not Reported</td>\n",
       "      <td>Not Reported</td>\n",
       "      <td>Quebec</td>\n",
       "      <td>Canada</td>\n",
       "      <td>2020-03-25</td>\n",
       "      <td>NaN</td>\n",
       "      <td>NaN</td>\n",
       "      <td>https://www.quebec.ca/en/health/health-issues/...</td>\n",
       "    </tr>\n",
       "    <tr>\n",
       "      <th>29</th>\n",
       "      <td>30</td>\n",
       "      <td>6</td>\n",
       "      <td>NaN</td>\n",
       "      <td>Not Reported</td>\n",
       "      <td>Not Reported</td>\n",
       "      <td>Not Reported</td>\n",
       "      <td>Quebec</td>\n",
       "      <td>Canada</td>\n",
       "      <td>2020-03-25</td>\n",
       "      <td>NaN</td>\n",
       "      <td>NaN</td>\n",
       "      <td>https://www.quebec.ca/en/health/health-issues/...</td>\n",
       "    </tr>\n",
       "    <tr>\n",
       "      <th>37</th>\n",
       "      <td>38</td>\n",
       "      <td>7</td>\n",
       "      <td>NaN</td>\n",
       "      <td>Not Reported</td>\n",
       "      <td>Not Reported</td>\n",
       "      <td>Montréal</td>\n",
       "      <td>Quebec</td>\n",
       "      <td>Canada</td>\n",
       "      <td>2020-03-26</td>\n",
       "      <td>NaN</td>\n",
       "      <td>NaN</td>\n",
       "      <td>https://www.cbc.ca/news/canada/montreal/covid1...</td>\n",
       "    </tr>\n",
       "    <tr>\n",
       "      <th>38</th>\n",
       "      <td>39</td>\n",
       "      <td>8</td>\n",
       "      <td>NaN</td>\n",
       "      <td>90-99</td>\n",
       "      <td>Male</td>\n",
       "      <td>Laurentides</td>\n",
       "      <td>Quebec</td>\n",
       "      <td>Canada</td>\n",
       "      <td>2020-03-26</td>\n",
       "      <td>NaN</td>\n",
       "      <td>NaN</td>\n",
       "      <td>https://montreal.ctvnews.ca/confirmed-cases-of...</td>\n",
       "    </tr>\n",
       "    <tr>\n",
       "      <th>43</th>\n",
       "      <td>44</td>\n",
       "      <td>9</td>\n",
       "      <td>NaN</td>\n",
       "      <td>Not Reported</td>\n",
       "      <td>Not Reported</td>\n",
       "      <td>Not Reported</td>\n",
       "      <td>Quebec</td>\n",
       "      <td>Canada</td>\n",
       "      <td>2020-03-27</td>\n",
       "      <td>NaN</td>\n",
       "      <td>NaN</td>\n",
       "      <td>https://montreal.ctvnews.ca/18-people-have-now...</td>\n",
       "    </tr>\n",
       "    <tr>\n",
       "      <th>44</th>\n",
       "      <td>45</td>\n",
       "      <td>10</td>\n",
       "      <td>NaN</td>\n",
       "      <td>Not Reported</td>\n",
       "      <td>Not Reported</td>\n",
       "      <td>Not Reported</td>\n",
       "      <td>Quebec</td>\n",
       "      <td>Canada</td>\n",
       "      <td>2020-03-27</td>\n",
       "      <td>NaN</td>\n",
       "      <td>NaN</td>\n",
       "      <td>https://montreal.ctvnews.ca/18-people-have-now...</td>\n",
       "    </tr>\n",
       "    <tr>\n",
       "      <th>45</th>\n",
       "      <td>46</td>\n",
       "      <td>11</td>\n",
       "      <td>NaN</td>\n",
       "      <td>Not Reported</td>\n",
       "      <td>Not Reported</td>\n",
       "      <td>Not Reported</td>\n",
       "      <td>Quebec</td>\n",
       "      <td>Canada</td>\n",
       "      <td>2020-03-27</td>\n",
       "      <td>NaN</td>\n",
       "      <td>NaN</td>\n",
       "      <td>https://montreal.ctvnews.ca/18-people-have-now...</td>\n",
       "    </tr>\n",
       "    <tr>\n",
       "      <th>46</th>\n",
       "      <td>47</td>\n",
       "      <td>12</td>\n",
       "      <td>NaN</td>\n",
       "      <td>Not Reported</td>\n",
       "      <td>Not Reported</td>\n",
       "      <td>Not Reported</td>\n",
       "      <td>Quebec</td>\n",
       "      <td>Canada</td>\n",
       "      <td>2020-03-27</td>\n",
       "      <td>NaN</td>\n",
       "      <td>NaN</td>\n",
       "      <td>https://montreal.ctvnews.ca/18-people-have-now...</td>\n",
       "    </tr>\n",
       "    <tr>\n",
       "      <th>47</th>\n",
       "      <td>48</td>\n",
       "      <td>13</td>\n",
       "      <td>NaN</td>\n",
       "      <td>Not Reported</td>\n",
       "      <td>Not Reported</td>\n",
       "      <td>Not Reported</td>\n",
       "      <td>Quebec</td>\n",
       "      <td>Canada</td>\n",
       "      <td>2020-03-27</td>\n",
       "      <td>NaN</td>\n",
       "      <td>NaN</td>\n",
       "      <td>https://montreal.ctvnews.ca/18-people-have-now...</td>\n",
       "    </tr>\n",
       "    <tr>\n",
       "      <th>48</th>\n",
       "      <td>49</td>\n",
       "      <td>14</td>\n",
       "      <td>NaN</td>\n",
       "      <td>Not Reported</td>\n",
       "      <td>Not Reported</td>\n",
       "      <td>Not Reported</td>\n",
       "      <td>Quebec</td>\n",
       "      <td>Canada</td>\n",
       "      <td>2020-03-27</td>\n",
       "      <td>NaN</td>\n",
       "      <td>NaN</td>\n",
       "      <td>https://montreal.ctvnews.ca/18-people-have-now...</td>\n",
       "    </tr>\n",
       "    <tr>\n",
       "      <th>49</th>\n",
       "      <td>50</td>\n",
       "      <td>15</td>\n",
       "      <td>NaN</td>\n",
       "      <td>Not Reported</td>\n",
       "      <td>Not Reported</td>\n",
       "      <td>Not Reported</td>\n",
       "      <td>Quebec</td>\n",
       "      <td>Canada</td>\n",
       "      <td>2020-03-27</td>\n",
       "      <td>NaN</td>\n",
       "      <td>NaN</td>\n",
       "      <td>https://montreal.ctvnews.ca/18-people-have-now...</td>\n",
       "    </tr>\n",
       "    <tr>\n",
       "      <th>50</th>\n",
       "      <td>51</td>\n",
       "      <td>16</td>\n",
       "      <td>NaN</td>\n",
       "      <td>Not Reported</td>\n",
       "      <td>Not Reported</td>\n",
       "      <td>Not Reported</td>\n",
       "      <td>Quebec</td>\n",
       "      <td>Canada</td>\n",
       "      <td>2020-03-27</td>\n",
       "      <td>NaN</td>\n",
       "      <td>NaN</td>\n",
       "      <td>https://montreal.ctvnews.ca/18-people-have-now...</td>\n",
       "    </tr>\n",
       "    <tr>\n",
       "      <th>51</th>\n",
       "      <td>52</td>\n",
       "      <td>17</td>\n",
       "      <td>NaN</td>\n",
       "      <td>Not Reported</td>\n",
       "      <td>Not Reported</td>\n",
       "      <td>Not Reported</td>\n",
       "      <td>Quebec</td>\n",
       "      <td>Canada</td>\n",
       "      <td>2020-03-27</td>\n",
       "      <td>NaN</td>\n",
       "      <td>NaN</td>\n",
       "      <td>https://montreal.ctvnews.ca/18-people-have-now...</td>\n",
       "    </tr>\n",
       "    <tr>\n",
       "      <th>52</th>\n",
       "      <td>53</td>\n",
       "      <td>18</td>\n",
       "      <td>NaN</td>\n",
       "      <td>Not Reported</td>\n",
       "      <td>Not Reported</td>\n",
       "      <td>Not Reported</td>\n",
       "      <td>Quebec</td>\n",
       "      <td>Canada</td>\n",
       "      <td>2020-03-27</td>\n",
       "      <td>NaN</td>\n",
       "      <td>NaN</td>\n",
       "      <td>https://montreal.ctvnews.ca/18-people-have-now...</td>\n",
       "    </tr>\n",
       "    <tr>\n",
       "      <th>55</th>\n",
       "      <td>56</td>\n",
       "      <td>19</td>\n",
       "      <td>NaN</td>\n",
       "      <td>Not Reported</td>\n",
       "      <td>Not Reported</td>\n",
       "      <td>Not Reported</td>\n",
       "      <td>Quebec</td>\n",
       "      <td>Canada</td>\n",
       "      <td>2020-03-28</td>\n",
       "      <td>NaN</td>\n",
       "      <td>NaN</td>\n",
       "      <td>https://www.msss.gouv.qc.ca/professionnels/mal...</td>\n",
       "    </tr>\n",
       "    <tr>\n",
       "      <th>56</th>\n",
       "      <td>57</td>\n",
       "      <td>20</td>\n",
       "      <td>NaN</td>\n",
       "      <td>Not Reported</td>\n",
       "      <td>Not Reported</td>\n",
       "      <td>Not Reported</td>\n",
       "      <td>Quebec</td>\n",
       "      <td>Canada</td>\n",
       "      <td>2020-03-28</td>\n",
       "      <td>NaN</td>\n",
       "      <td>NaN</td>\n",
       "      <td>https://www.msss.gouv.qc.ca/professionnels/mal...</td>\n",
       "    </tr>\n",
       "    <tr>\n",
       "      <th>57</th>\n",
       "      <td>58</td>\n",
       "      <td>21</td>\n",
       "      <td>NaN</td>\n",
       "      <td>Not Reported</td>\n",
       "      <td>Not Reported</td>\n",
       "      <td>Not Reported</td>\n",
       "      <td>Quebec</td>\n",
       "      <td>Canada</td>\n",
       "      <td>2020-03-28</td>\n",
       "      <td>NaN</td>\n",
       "      <td>NaN</td>\n",
       "      <td>https://www.msss.gouv.qc.ca/professionnels/mal...</td>\n",
       "    </tr>\n",
       "    <tr>\n",
       "      <th>58</th>\n",
       "      <td>59</td>\n",
       "      <td>22</td>\n",
       "      <td>NaN</td>\n",
       "      <td>Not Reported</td>\n",
       "      <td>Not Reported</td>\n",
       "      <td>Not Reported</td>\n",
       "      <td>Quebec</td>\n",
       "      <td>Canada</td>\n",
       "      <td>2020-03-28</td>\n",
       "      <td>NaN</td>\n",
       "      <td>NaN</td>\n",
       "      <td>https://www.msss.gouv.qc.ca/professionnels/mal...</td>\n",
       "    </tr>\n",
       "    <tr>\n",
       "      <th>67</th>\n",
       "      <td>68</td>\n",
       "      <td>23</td>\n",
       "      <td>NaN</td>\n",
       "      <td>Not Reported</td>\n",
       "      <td>Not Reported</td>\n",
       "      <td>Not Reported</td>\n",
       "      <td>Quebec</td>\n",
       "      <td>Canada</td>\n",
       "      <td>2020-03-30</td>\n",
       "      <td>NaN</td>\n",
       "      <td>NaN</td>\n",
       "      <td>https://montreal.ctvnews.ca/3-more-deaths-from...</td>\n",
       "    </tr>\n",
       "    <tr>\n",
       "      <th>68</th>\n",
       "      <td>69</td>\n",
       "      <td>24</td>\n",
       "      <td>NaN</td>\n",
       "      <td>Not Reported</td>\n",
       "      <td>Not Reported</td>\n",
       "      <td>Not Reported</td>\n",
       "      <td>Quebec</td>\n",
       "      <td>Canada</td>\n",
       "      <td>2020-03-30</td>\n",
       "      <td>NaN</td>\n",
       "      <td>NaN</td>\n",
       "      <td>https://montreal.ctvnews.ca/3-more-deaths-from...</td>\n",
       "    </tr>\n",
       "    <tr>\n",
       "      <th>69</th>\n",
       "      <td>70</td>\n",
       "      <td>25</td>\n",
       "      <td>NaN</td>\n",
       "      <td>Not Reported</td>\n",
       "      <td>Not Reported</td>\n",
       "      <td>Not Reported</td>\n",
       "      <td>Quebec</td>\n",
       "      <td>Canada</td>\n",
       "      <td>2020-03-30</td>\n",
       "      <td>NaN</td>\n",
       "      <td>NaN</td>\n",
       "      <td>https://montreal.ctvnews.ca/3-more-deaths-from...</td>\n",
       "    </tr>\n",
       "    <tr>\n",
       "      <th>90</th>\n",
       "      <td>91</td>\n",
       "      <td>26</td>\n",
       "      <td>NaN</td>\n",
       "      <td>Not Reported</td>\n",
       "      <td>Not Reported</td>\n",
       "      <td>Not Reported</td>\n",
       "      <td>Quebec</td>\n",
       "      <td>Canada</td>\n",
       "      <td>2020-03-31</td>\n",
       "      <td>NaN</td>\n",
       "      <td>NaN</td>\n",
       "      <td>https://montreal.ctvnews.ca/quebec-could-run-o...</td>\n",
       "    </tr>\n",
       "    <tr>\n",
       "      <th>91</th>\n",
       "      <td>92</td>\n",
       "      <td>27</td>\n",
       "      <td>NaN</td>\n",
       "      <td>Not Reported</td>\n",
       "      <td>Not Reported</td>\n",
       "      <td>Not Reported</td>\n",
       "      <td>Quebec</td>\n",
       "      <td>Canada</td>\n",
       "      <td>2020-03-31</td>\n",
       "      <td>NaN</td>\n",
       "      <td>NaN</td>\n",
       "      <td>https://montreal.ctvnews.ca/quebec-could-run-o...</td>\n",
       "    </tr>\n",
       "    <tr>\n",
       "      <th>92</th>\n",
       "      <td>93</td>\n",
       "      <td>28</td>\n",
       "      <td>NaN</td>\n",
       "      <td>Not Reported</td>\n",
       "      <td>Not Reported</td>\n",
       "      <td>Not Reported</td>\n",
       "      <td>Quebec</td>\n",
       "      <td>Canada</td>\n",
       "      <td>2020-03-31</td>\n",
       "      <td>NaN</td>\n",
       "      <td>NaN</td>\n",
       "      <td>https://montreal.ctvnews.ca/quebec-could-run-o...</td>\n",
       "    </tr>\n",
       "    <tr>\n",
       "      <th>93</th>\n",
       "      <td>94</td>\n",
       "      <td>29</td>\n",
       "      <td>NaN</td>\n",
       "      <td>Not Reported</td>\n",
       "      <td>Not Reported</td>\n",
       "      <td>Not Reported</td>\n",
       "      <td>Quebec</td>\n",
       "      <td>Canada</td>\n",
       "      <td>2020-03-31</td>\n",
       "      <td>NaN</td>\n",
       "      <td>NaN</td>\n",
       "      <td>https://montreal.ctvnews.ca/quebec-could-run-o...</td>\n",
       "    </tr>\n",
       "    <tr>\n",
       "      <th>94</th>\n",
       "      <td>95</td>\n",
       "      <td>30</td>\n",
       "      <td>NaN</td>\n",
       "      <td>Not Reported</td>\n",
       "      <td>Not Reported</td>\n",
       "      <td>Not Reported</td>\n",
       "      <td>Quebec</td>\n",
       "      <td>Canada</td>\n",
       "      <td>2020-03-31</td>\n",
       "      <td>NaN</td>\n",
       "      <td>NaN</td>\n",
       "      <td>https://montreal.ctvnews.ca/quebec-could-run-o...</td>\n",
       "    </tr>\n",
       "    <tr>\n",
       "      <th>95</th>\n",
       "      <td>96</td>\n",
       "      <td>31</td>\n",
       "      <td>NaN</td>\n",
       "      <td>Not Reported</td>\n",
       "      <td>Not Reported</td>\n",
       "      <td>Not Reported</td>\n",
       "      <td>Quebec</td>\n",
       "      <td>Canada</td>\n",
       "      <td>2020-03-31</td>\n",
       "      <td>NaN</td>\n",
       "      <td>NaN</td>\n",
       "      <td>https://montreal.ctvnews.ca/quebec-could-run-o...</td>\n",
       "    </tr>\n",
       "  </tbody>\n",
       "</table>\n",
       "</div>"
      ],
      "text/plain": [
       "    death_id  province_death_id  case_id           age           sex  \\\n",
       "8          9                  1      NaN         80-89        Female   \n",
       "14        15                  2      NaN  Not Reported  Not Reported   \n",
       "15        16                  3      NaN  Not Reported  Not Reported   \n",
       "16        17                  4      NaN  Not Reported  Not Reported   \n",
       "28        29                  5      NaN  Not Reported  Not Reported   \n",
       "29        30                  6      NaN  Not Reported  Not Reported   \n",
       "37        38                  7      NaN  Not Reported  Not Reported   \n",
       "38        39                  8      NaN         90-99          Male   \n",
       "43        44                  9      NaN  Not Reported  Not Reported   \n",
       "44        45                 10      NaN  Not Reported  Not Reported   \n",
       "45        46                 11      NaN  Not Reported  Not Reported   \n",
       "46        47                 12      NaN  Not Reported  Not Reported   \n",
       "47        48                 13      NaN  Not Reported  Not Reported   \n",
       "48        49                 14      NaN  Not Reported  Not Reported   \n",
       "49        50                 15      NaN  Not Reported  Not Reported   \n",
       "50        51                 16      NaN  Not Reported  Not Reported   \n",
       "51        52                 17      NaN  Not Reported  Not Reported   \n",
       "52        53                 18      NaN  Not Reported  Not Reported   \n",
       "55        56                 19      NaN  Not Reported  Not Reported   \n",
       "56        57                 20      NaN  Not Reported  Not Reported   \n",
       "57        58                 21      NaN  Not Reported  Not Reported   \n",
       "58        59                 22      NaN  Not Reported  Not Reported   \n",
       "67        68                 23      NaN  Not Reported  Not Reported   \n",
       "68        69                 24      NaN  Not Reported  Not Reported   \n",
       "69        70                 25      NaN  Not Reported  Not Reported   \n",
       "90        91                 26      NaN  Not Reported  Not Reported   \n",
       "91        92                 27      NaN  Not Reported  Not Reported   \n",
       "92        93                 28      NaN  Not Reported  Not Reported   \n",
       "93        94                 29      NaN  Not Reported  Not Reported   \n",
       "94        95                 30      NaN  Not Reported  Not Reported   \n",
       "95        96                 31      NaN  Not Reported  Not Reported   \n",
       "\n",
       "   health_region province country date_death_report  death_source  \\\n",
       "8     Lanaudière   Quebec  Canada        2020-03-18           NaN   \n",
       "14    Lanaudière   Quebec  Canada        2020-03-21           NaN   \n",
       "15    Lanaudière   Quebec  Canada        2020-03-21           NaN   \n",
       "16    Lanaudière   Quebec  Canada        2020-03-21           NaN   \n",
       "28  Not Reported   Quebec  Canada        2020-03-25           NaN   \n",
       "29  Not Reported   Quebec  Canada        2020-03-25           NaN   \n",
       "37      Montréal   Quebec  Canada        2020-03-26           NaN   \n",
       "38   Laurentides   Quebec  Canada        2020-03-26           NaN   \n",
       "43  Not Reported   Quebec  Canada        2020-03-27           NaN   \n",
       "44  Not Reported   Quebec  Canada        2020-03-27           NaN   \n",
       "45  Not Reported   Quebec  Canada        2020-03-27           NaN   \n",
       "46  Not Reported   Quebec  Canada        2020-03-27           NaN   \n",
       "47  Not Reported   Quebec  Canada        2020-03-27           NaN   \n",
       "48  Not Reported   Quebec  Canada        2020-03-27           NaN   \n",
       "49  Not Reported   Quebec  Canada        2020-03-27           NaN   \n",
       "50  Not Reported   Quebec  Canada        2020-03-27           NaN   \n",
       "51  Not Reported   Quebec  Canada        2020-03-27           NaN   \n",
       "52  Not Reported   Quebec  Canada        2020-03-27           NaN   \n",
       "55  Not Reported   Quebec  Canada        2020-03-28           NaN   \n",
       "56  Not Reported   Quebec  Canada        2020-03-28           NaN   \n",
       "57  Not Reported   Quebec  Canada        2020-03-28           NaN   \n",
       "58  Not Reported   Quebec  Canada        2020-03-28           NaN   \n",
       "67  Not Reported   Quebec  Canada        2020-03-30           NaN   \n",
       "68  Not Reported   Quebec  Canada        2020-03-30           NaN   \n",
       "69  Not Reported   Quebec  Canada        2020-03-30           NaN   \n",
       "90  Not Reported   Quebec  Canada        2020-03-31           NaN   \n",
       "91  Not Reported   Quebec  Canada        2020-03-31           NaN   \n",
       "92  Not Reported   Quebec  Canada        2020-03-31           NaN   \n",
       "93  Not Reported   Quebec  Canada        2020-03-31           NaN   \n",
       "94  Not Reported   Quebec  Canada        2020-03-31           NaN   \n",
       "95  Not Reported   Quebec  Canada        2020-03-31           NaN   \n",
       "\n",
       "    additional_info                                  additional_source  \n",
       "8               1.0  https://montreal.ctvnews.ca/covid-19-quebec-ha...  \n",
       "14              1.0  https://montreal.ctvnews.ca/quebec-premier-ann...  \n",
       "15              1.0  https://montreal.ctvnews.ca/quebec-premier-ann...  \n",
       "16              1.0  https://montreal.ctvnews.ca/quebec-premier-ann...  \n",
       "28              NaN  https://www.quebec.ca/en/health/health-issues/...  \n",
       "29              NaN  https://www.quebec.ca/en/health/health-issues/...  \n",
       "37              NaN  https://www.cbc.ca/news/canada/montreal/covid1...  \n",
       "38              NaN  https://montreal.ctvnews.ca/confirmed-cases-of...  \n",
       "43              NaN  https://montreal.ctvnews.ca/18-people-have-now...  \n",
       "44              NaN  https://montreal.ctvnews.ca/18-people-have-now...  \n",
       "45              NaN  https://montreal.ctvnews.ca/18-people-have-now...  \n",
       "46              NaN  https://montreal.ctvnews.ca/18-people-have-now...  \n",
       "47              NaN  https://montreal.ctvnews.ca/18-people-have-now...  \n",
       "48              NaN  https://montreal.ctvnews.ca/18-people-have-now...  \n",
       "49              NaN  https://montreal.ctvnews.ca/18-people-have-now...  \n",
       "50              NaN  https://montreal.ctvnews.ca/18-people-have-now...  \n",
       "51              NaN  https://montreal.ctvnews.ca/18-people-have-now...  \n",
       "52              NaN  https://montreal.ctvnews.ca/18-people-have-now...  \n",
       "55              NaN  https://www.msss.gouv.qc.ca/professionnels/mal...  \n",
       "56              NaN  https://www.msss.gouv.qc.ca/professionnels/mal...  \n",
       "57              NaN  https://www.msss.gouv.qc.ca/professionnels/mal...  \n",
       "58              NaN  https://www.msss.gouv.qc.ca/professionnels/mal...  \n",
       "67              NaN  https://montreal.ctvnews.ca/3-more-deaths-from...  \n",
       "68              NaN  https://montreal.ctvnews.ca/3-more-deaths-from...  \n",
       "69              NaN  https://montreal.ctvnews.ca/3-more-deaths-from...  \n",
       "90              NaN  https://montreal.ctvnews.ca/quebec-could-run-o...  \n",
       "91              NaN  https://montreal.ctvnews.ca/quebec-could-run-o...  \n",
       "92              NaN  https://montreal.ctvnews.ca/quebec-could-run-o...  \n",
       "93              NaN  https://montreal.ctvnews.ca/quebec-could-run-o...  \n",
       "94              NaN  https://montreal.ctvnews.ca/quebec-could-run-o...  \n",
       "95              NaN  https://montreal.ctvnews.ca/quebec-could-run-o...  "
      ]
     },
     "execution_count": 123,
     "metadata": {},
     "output_type": "execute_result"
    }
   ],
   "source": [
    "deaths_df"
   ]
  },
  {
   "cell_type": "code",
   "execution_count": 124,
   "metadata": {},
   "outputs": [
    {
     "data": {
      "text/html": [
       "<div>\n",
       "<style scoped>\n",
       "    .dataframe tbody tr th:only-of-type {\n",
       "        vertical-align: middle;\n",
       "    }\n",
       "\n",
       "    .dataframe tbody tr th {\n",
       "        vertical-align: top;\n",
       "    }\n",
       "\n",
       "    .dataframe thead th {\n",
       "        text-align: right;\n",
       "    }\n",
       "</style>\n",
       "<table border=\"1\" class=\"dataframe\">\n",
       "  <thead>\n",
       "    <tr style=\"text-align: right;\">\n",
       "      <th></th>\n",
       "      <th>case_id</th>\n",
       "      <th>provincial_case_id</th>\n",
       "      <th>age</th>\n",
       "      <th>sex</th>\n",
       "      <th>health_region</th>\n",
       "      <th>province</th>\n",
       "      <th>country</th>\n",
       "      <th>date_report</th>\n",
       "      <th>report_week</th>\n",
       "      <th>travel_yn</th>\n",
       "      <th>travel_history_country</th>\n",
       "      <th>locally_acquired</th>\n",
       "      <th>case_source</th>\n",
       "      <th>additional_info</th>\n",
       "      <th>additional_source</th>\n",
       "    </tr>\n",
       "  </thead>\n",
       "  <tbody>\n",
       "    <tr>\n",
       "      <th>13</th>\n",
       "      <td>14</td>\n",
       "      <td>1</td>\n",
       "      <td>40-49</td>\n",
       "      <td>Female</td>\n",
       "      <td>Montréal</td>\n",
       "      <td>Quebec</td>\n",
       "      <td>Canada</td>\n",
       "      <td>2020-02-27</td>\n",
       "      <td>2020-02-23</td>\n",
       "      <td>1</td>\n",
       "      <td>Iran</td>\n",
       "      <td>NaN</td>\n",
       "      <td>(1) https://www.cbc.ca/news/canada/montreal/co...</td>\n",
       "      <td>Travel from Iran via Qatar</td>\n",
       "      <td>https://www.cbc.ca/news/canada/montreal/covid-...</td>\n",
       "    </tr>\n",
       "    <tr>\n",
       "      <th>34</th>\n",
       "      <td>35</td>\n",
       "      <td>2</td>\n",
       "      <td>70-79</td>\n",
       "      <td>Male</td>\n",
       "      <td>Laurentides</td>\n",
       "      <td>Quebec</td>\n",
       "      <td>Canada</td>\n",
       "      <td>2020-03-05</td>\n",
       "      <td>2020-03-01</td>\n",
       "      <td>1</td>\n",
       "      <td>India</td>\n",
       "      <td>NaN</td>\n",
       "      <td>(1) https://www.msss.gouv.qc.ca/ministere/sall...</td>\n",
       "      <td>NaN</td>\n",
       "      <td>NaN</td>\n",
       "    </tr>\n",
       "    <tr>\n",
       "      <th>50</th>\n",
       "      <td>51</td>\n",
       "      <td>3</td>\n",
       "      <td>Not Reported</td>\n",
       "      <td>Not Reported</td>\n",
       "      <td>Montérégie</td>\n",
       "      <td>Quebec</td>\n",
       "      <td>Canada</td>\n",
       "      <td>2020-03-06</td>\n",
       "      <td>2020-03-01</td>\n",
       "      <td>1</td>\n",
       "      <td>France</td>\n",
       "      <td>NaN</td>\n",
       "      <td>https://www.msss.gouv.qc.ca/ministere/salle-de...</td>\n",
       "      <td>someone they had been in contact with in Franc...</td>\n",
       "      <td>https://www.cbc.ca/news/canada/montreal/3rd-co...</td>\n",
       "    </tr>\n",
       "    <tr>\n",
       "      <th>61</th>\n",
       "      <td>62</td>\n",
       "      <td>4</td>\n",
       "      <td>Not Reported</td>\n",
       "      <td>Female</td>\n",
       "      <td>Montérégie</td>\n",
       "      <td>Quebec</td>\n",
       "      <td>Canada</td>\n",
       "      <td>2020-03-08</td>\n",
       "      <td>2020-03-08</td>\n",
       "      <td>1</td>\n",
       "      <td>Cruise (Mexico)</td>\n",
       "      <td>NaN</td>\n",
       "      <td>https://www.msss.gouv.qc.ca/ministere/salle-de...</td>\n",
       "      <td>NaN</td>\n",
       "      <td>NaN</td>\n",
       "    </tr>\n",
       "    <tr>\n",
       "      <th>78</th>\n",
       "      <td>79</td>\n",
       "      <td>5</td>\n",
       "      <td>Not Reported</td>\n",
       "      <td>Male</td>\n",
       "      <td>Montréal</td>\n",
       "      <td>Quebec</td>\n",
       "      <td>Canada</td>\n",
       "      <td>2020-03-09</td>\n",
       "      <td>2020-03-08</td>\n",
       "      <td>1</td>\n",
       "      <td>United States, Ireland, United Kingdom</td>\n",
       "      <td>NaN</td>\n",
       "      <td>https://www.msss.gouv.qc.ca/ministere/salle-de...</td>\n",
       "      <td>NaN</td>\n",
       "      <td>NaN</td>\n",
       "    </tr>\n",
       "    <tr>\n",
       "      <th>...</th>\n",
       "      <td>...</td>\n",
       "      <td>...</td>\n",
       "      <td>...</td>\n",
       "      <td>...</td>\n",
       "      <td>...</td>\n",
       "      <td>...</td>\n",
       "      <td>...</td>\n",
       "      <td>...</td>\n",
       "      <td>...</td>\n",
       "      <td>...</td>\n",
       "      <td>...</td>\n",
       "      <td>...</td>\n",
       "      <td>...</td>\n",
       "      <td>...</td>\n",
       "      <td>...</td>\n",
       "    </tr>\n",
       "    <tr>\n",
       "      <th>8455</th>\n",
       "      <td>8456</td>\n",
       "      <td>4158</td>\n",
       "      <td>Not Reported</td>\n",
       "      <td>Not Reported</td>\n",
       "      <td>Saguenay</td>\n",
       "      <td>Quebec</td>\n",
       "      <td>Canada</td>\n",
       "      <td>2020-03-31</td>\n",
       "      <td>2020-03-29</td>\n",
       "      <td>Not Reported</td>\n",
       "      <td>NaN</td>\n",
       "      <td>NaN</td>\n",
       "      <td>https://www.quebec.ca/sante/problemes-de-sante...</td>\n",
       "      <td>NaN</td>\n",
       "      <td>NaN</td>\n",
       "    </tr>\n",
       "    <tr>\n",
       "      <th>8456</th>\n",
       "      <td>8457</td>\n",
       "      <td>4159</td>\n",
       "      <td>Not Reported</td>\n",
       "      <td>Not Reported</td>\n",
       "      <td>Saguenay</td>\n",
       "      <td>Quebec</td>\n",
       "      <td>Canada</td>\n",
       "      <td>2020-03-31</td>\n",
       "      <td>2020-03-29</td>\n",
       "      <td>Not Reported</td>\n",
       "      <td>NaN</td>\n",
       "      <td>NaN</td>\n",
       "      <td>https://www.quebec.ca/sante/problemes-de-sante...</td>\n",
       "      <td>NaN</td>\n",
       "      <td>NaN</td>\n",
       "    </tr>\n",
       "    <tr>\n",
       "      <th>8457</th>\n",
       "      <td>8458</td>\n",
       "      <td>4160</td>\n",
       "      <td>Not Reported</td>\n",
       "      <td>Not Reported</td>\n",
       "      <td>Saguenay</td>\n",
       "      <td>Quebec</td>\n",
       "      <td>Canada</td>\n",
       "      <td>2020-03-31</td>\n",
       "      <td>2020-03-29</td>\n",
       "      <td>Not Reported</td>\n",
       "      <td>NaN</td>\n",
       "      <td>NaN</td>\n",
       "      <td>https://www.quebec.ca/sante/problemes-de-sante...</td>\n",
       "      <td>NaN</td>\n",
       "      <td>NaN</td>\n",
       "    </tr>\n",
       "    <tr>\n",
       "      <th>8458</th>\n",
       "      <td>8459</td>\n",
       "      <td>4161</td>\n",
       "      <td>Not Reported</td>\n",
       "      <td>Not Reported</td>\n",
       "      <td>Saguenay</td>\n",
       "      <td>Quebec</td>\n",
       "      <td>Canada</td>\n",
       "      <td>2020-03-31</td>\n",
       "      <td>2020-03-29</td>\n",
       "      <td>Not Reported</td>\n",
       "      <td>NaN</td>\n",
       "      <td>NaN</td>\n",
       "      <td>https://www.quebec.ca/sante/problemes-de-sante...</td>\n",
       "      <td>NaN</td>\n",
       "      <td>NaN</td>\n",
       "    </tr>\n",
       "    <tr>\n",
       "      <th>8459</th>\n",
       "      <td>8460</td>\n",
       "      <td>4162</td>\n",
       "      <td>Not Reported</td>\n",
       "      <td>Not Reported</td>\n",
       "      <td>Terres-Cries-de-la-Baie-James</td>\n",
       "      <td>Quebec</td>\n",
       "      <td>Canada</td>\n",
       "      <td>2020-03-31</td>\n",
       "      <td>2020-03-29</td>\n",
       "      <td>Not Reported</td>\n",
       "      <td>NaN</td>\n",
       "      <td>NaN</td>\n",
       "      <td>https://www.quebec.ca/sante/problemes-de-sante...</td>\n",
       "      <td>NaN</td>\n",
       "      <td>NaN</td>\n",
       "    </tr>\n",
       "  </tbody>\n",
       "</table>\n",
       "<p>4162 rows × 15 columns</p>\n",
       "</div>"
      ],
      "text/plain": [
       "      case_id  provincial_case_id           age           sex  \\\n",
       "13         14                   1         40-49        Female   \n",
       "34         35                   2         70-79          Male   \n",
       "50         51                   3  Not Reported  Not Reported   \n",
       "61         62                   4  Not Reported        Female   \n",
       "78         79                   5  Not Reported          Male   \n",
       "...       ...                 ...           ...           ...   \n",
       "8455     8456                4158  Not Reported  Not Reported   \n",
       "8456     8457                4159  Not Reported  Not Reported   \n",
       "8457     8458                4160  Not Reported  Not Reported   \n",
       "8458     8459                4161  Not Reported  Not Reported   \n",
       "8459     8460                4162  Not Reported  Not Reported   \n",
       "\n",
       "                      health_region province country date_report report_week  \\\n",
       "13                         Montréal   Quebec  Canada  2020-02-27  2020-02-23   \n",
       "34                      Laurentides   Quebec  Canada  2020-03-05  2020-03-01   \n",
       "50                       Montérégie   Quebec  Canada  2020-03-06  2020-03-01   \n",
       "61                       Montérégie   Quebec  Canada  2020-03-08  2020-03-08   \n",
       "78                         Montréal   Quebec  Canada  2020-03-09  2020-03-08   \n",
       "...                             ...      ...     ...         ...         ...   \n",
       "8455                       Saguenay   Quebec  Canada  2020-03-31  2020-03-29   \n",
       "8456                       Saguenay   Quebec  Canada  2020-03-31  2020-03-29   \n",
       "8457                       Saguenay   Quebec  Canada  2020-03-31  2020-03-29   \n",
       "8458                       Saguenay   Quebec  Canada  2020-03-31  2020-03-29   \n",
       "8459  Terres-Cries-de-la-Baie-James   Quebec  Canada  2020-03-31  2020-03-29   \n",
       "\n",
       "         travel_yn                  travel_history_country locally_acquired  \\\n",
       "13               1                                    Iran              NaN   \n",
       "34               1                                   India              NaN   \n",
       "50               1                                  France              NaN   \n",
       "61               1                         Cruise (Mexico)              NaN   \n",
       "78               1  United States, Ireland, United Kingdom              NaN   \n",
       "...            ...                                     ...              ...   \n",
       "8455  Not Reported                                     NaN              NaN   \n",
       "8456  Not Reported                                     NaN              NaN   \n",
       "8457  Not Reported                                     NaN              NaN   \n",
       "8458  Not Reported                                     NaN              NaN   \n",
       "8459  Not Reported                                     NaN              NaN   \n",
       "\n",
       "                                            case_source  \\\n",
       "13    (1) https://www.cbc.ca/news/canada/montreal/co...   \n",
       "34    (1) https://www.msss.gouv.qc.ca/ministere/sall...   \n",
       "50    https://www.msss.gouv.qc.ca/ministere/salle-de...   \n",
       "61    https://www.msss.gouv.qc.ca/ministere/salle-de...   \n",
       "78    https://www.msss.gouv.qc.ca/ministere/salle-de...   \n",
       "...                                                 ...   \n",
       "8455  https://www.quebec.ca/sante/problemes-de-sante...   \n",
       "8456  https://www.quebec.ca/sante/problemes-de-sante...   \n",
       "8457  https://www.quebec.ca/sante/problemes-de-sante...   \n",
       "8458  https://www.quebec.ca/sante/problemes-de-sante...   \n",
       "8459  https://www.quebec.ca/sante/problemes-de-sante...   \n",
       "\n",
       "                                        additional_info  \\\n",
       "13                           Travel from Iran via Qatar   \n",
       "34                                                  NaN   \n",
       "50    someone they had been in contact with in Franc...   \n",
       "61                                                  NaN   \n",
       "78                                                  NaN   \n",
       "...                                                 ...   \n",
       "8455                                                NaN   \n",
       "8456                                                NaN   \n",
       "8457                                                NaN   \n",
       "8458                                                NaN   \n",
       "8459                                                NaN   \n",
       "\n",
       "                                      additional_source  \n",
       "13    https://www.cbc.ca/news/canada/montreal/covid-...  \n",
       "34                                                  NaN  \n",
       "50    https://www.cbc.ca/news/canada/montreal/3rd-co...  \n",
       "61                                                  NaN  \n",
       "78                                                  NaN  \n",
       "...                                                 ...  \n",
       "8455                                                NaN  \n",
       "8456                                                NaN  \n",
       "8457                                                NaN  \n",
       "8458                                                NaN  \n",
       "8459                                                NaN  \n",
       "\n",
       "[4162 rows x 15 columns]"
      ]
     },
     "execution_count": 124,
     "metadata": {},
     "output_type": "execute_result"
    }
   ],
   "source": [
    "cases_df"
   ]
  },
  {
   "cell_type": "code",
   "execution_count": 129,
   "metadata": {},
   "outputs": [],
   "source": [
    "cases_df['status'] = 'cases'\n",
    "cases_df['value'] = cases_df['provincial_case_id']\n",
    "cases_df['date'] = cases_df['date_report']"
   ]
  },
  {
   "cell_type": "code",
   "execution_count": 130,
   "metadata": {},
   "outputs": [
    {
     "name": "stderr",
     "output_type": "stream",
     "text": [
      "/Users/archydeberker/Desktop/code/saq/saq-env/lib/python3.7/site-packages/ipykernel_launcher.py:1: SettingWithCopyWarning:\n",
      "\n",
      "\n",
      "A value is trying to be set on a copy of a slice from a DataFrame.\n",
      "Try using .loc[row_indexer,col_indexer] = value instead\n",
      "\n",
      "See the caveats in the documentation: https://pandas.pydata.org/pandas-docs/stable/user_guide/indexing.html#returning-a-view-versus-a-copy\n",
      "\n",
      "/Users/archydeberker/Desktop/code/saq/saq-env/lib/python3.7/site-packages/ipykernel_launcher.py:2: SettingWithCopyWarning:\n",
      "\n",
      "\n",
      "A value is trying to be set on a copy of a slice from a DataFrame.\n",
      "Try using .loc[row_indexer,col_indexer] = value instead\n",
      "\n",
      "See the caveats in the documentation: https://pandas.pydata.org/pandas-docs/stable/user_guide/indexing.html#returning-a-view-versus-a-copy\n",
      "\n",
      "/Users/archydeberker/Desktop/code/saq/saq-env/lib/python3.7/site-packages/ipykernel_launcher.py:3: SettingWithCopyWarning:\n",
      "\n",
      "\n",
      "A value is trying to be set on a copy of a slice from a DataFrame.\n",
      "Try using .loc[row_indexer,col_indexer] = value instead\n",
      "\n",
      "See the caveats in the documentation: https://pandas.pydata.org/pandas-docs/stable/user_guide/indexing.html#returning-a-view-versus-a-copy\n",
      "\n"
     ]
    }
   ],
   "source": [
    "deaths_df['status'] = 'deaths'\n",
    "deaths_df['value'] = deaths_df['province_death_id']\n",
    "deaths_df['date'] = deaths_df['date_death_report']"
   ]
  },
  {
   "cell_type": "code",
   "execution_count": 131,
   "metadata": {},
   "outputs": [
    {
     "name": "stderr",
     "output_type": "stream",
     "text": [
      "/Users/archydeberker/Desktop/code/saq/saq-env/lib/python3.7/site-packages/ipykernel_launcher.py:1: SettingWithCopyWarning:\n",
      "\n",
      "\n",
      "A value is trying to be set on a copy of a slice from a DataFrame.\n",
      "Try using .loc[row_indexer,col_indexer] = value instead\n",
      "\n",
      "See the caveats in the documentation: https://pandas.pydata.org/pandas-docs/stable/user_guide/indexing.html#returning-a-view-versus-a-copy\n",
      "\n",
      "/Users/archydeberker/Desktop/code/saq/saq-env/lib/python3.7/site-packages/ipykernel_launcher.py:2: SettingWithCopyWarning:\n",
      "\n",
      "\n",
      "A value is trying to be set on a copy of a slice from a DataFrame.\n",
      "Try using .loc[row_indexer,col_indexer] = value instead\n",
      "\n",
      "See the caveats in the documentation: https://pandas.pydata.org/pandas-docs/stable/user_guide/indexing.html#returning-a-view-versus-a-copy\n",
      "\n",
      "/Users/archydeberker/Desktop/code/saq/saq-env/lib/python3.7/site-packages/ipykernel_launcher.py:3: SettingWithCopyWarning:\n",
      "\n",
      "\n",
      "A value is trying to be set on a copy of a slice from a DataFrame.\n",
      "Try using .loc[row_indexer,col_indexer] = value instead\n",
      "\n",
      "See the caveats in the documentation: https://pandas.pydata.org/pandas-docs/stable/user_guide/indexing.html#returning-a-view-versus-a-copy\n",
      "\n"
     ]
    }
   ],
   "source": [
    "recovered_df['status'] = 'recovered'\n",
    "recovered_df['value'] = recovered_df['cumulative_recovered']\n",
    "recovered_df['date'] = recovered_df['date_recovered']"
   ]
  },
  {
   "cell_type": "code",
   "execution_count": 134,
   "metadata": {},
   "outputs": [],
   "source": [
    "cols = ['status', 'value', 'date']\n",
    "df = pd.concat([cases_df[cols], deaths_df[cols], recovered_df[cols]])"
   ]
  },
  {
   "cell_type": "code",
   "execution_count": null,
   "metadata": {},
   "outputs": [],
   "source": []
  }
 ],
 "metadata": {
  "kernelspec": {
   "display_name": "Python 3",
   "language": "python",
   "name": "python3"
  },
  "language_info": {
   "codemirror_mode": {
    "name": "ipython",
    "version": 3
   },
   "file_extension": ".py",
   "mimetype": "text/x-python",
   "name": "python",
   "nbconvert_exporter": "python",
   "pygments_lexer": "ipython3",
   "version": "3.7.3"
  }
 },
 "nbformat": 4,
 "nbformat_minor": 4
}
